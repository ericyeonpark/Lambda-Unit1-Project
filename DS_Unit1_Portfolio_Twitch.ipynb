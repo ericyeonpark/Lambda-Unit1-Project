{
  "nbformat": 4,
  "nbformat_minor": 0,
  "metadata": {
    "colab": {
      "name": "DS_Unit1_Portfolio_Twitch.ipynb",
      "provenance": [],
      "collapsed_sections": [
        "_22HYuBSTwWI",
        "ZyCHZcdOJnCp"
      ],
      "toc_visible": true
    },
    "kernelspec": {
      "display_name": "Python 3",
      "name": "python3"
    }
  },
  "cells": [
    {
      "cell_type": "markdown",
      "metadata": {
        "id": "5Q4TiL2kTpQp"
      },
      "source": [
        "#Data Clean-up"
      ]
    },
    {
      "cell_type": "code",
      "metadata": {
        "id": "Dj7U-gzrw-cf"
      },
      "source": [
        "import pandas as pd\r\n",
        "import numpy as np\r\n",
        "import matplotlib.pyplot as plt"
      ],
      "execution_count": null,
      "outputs": []
    },
    {
      "cell_type": "code",
      "metadata": {
        "colab": {
          "resources": {
            "http://localhost:8080/nbextensions/google.colab/files.js": {
              "data": "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",
              "ok": true,
              "headers": [
                [
                  "content-type",
                  "application/javascript"
                ]
              ],
              "status": 200,
              "status_text": ""
            }
          },
          "base_uri": "https://localhost:8080/",
          "height": 72
        },
        "id": "romqatJS19hv",
        "outputId": "a1b7a577-5634-4f8d-9929-d6ece432ab71"
      },
      "source": [
        "from google.colab import files\r\n",
        "uploaded2 = files.upload()"
      ],
      "execution_count": null,
      "outputs": [
        {
          "output_type": "display_data",
          "data": {
            "text/html": [
              "\n",
              "     <input type=\"file\" id=\"files-9c605a34-f041-4dea-9062-fec62cce977d\" name=\"files[]\" multiple disabled\n",
              "        style=\"border:none\" />\n",
              "     <output id=\"result-9c605a34-f041-4dea-9062-fec62cce977d\">\n",
              "      Upload widget is only available when the cell has been executed in the\n",
              "      current browser session. Please rerun this cell to enable.\n",
              "      </output>\n",
              "      <script src=\"/nbextensions/google.colab/files.js\"></script> "
            ],
            "text/plain": [
              "<IPython.core.display.HTML object>"
            ]
          },
          "metadata": {
            "tags": []
          }
        },
        {
          "output_type": "stream",
          "text": [
            "Saving Twitch_user_data_1MonthAgo.csv to Twitch_user_data_1MonthAgo.csv\n"
          ],
          "name": "stdout"
        }
      ]
    },
    {
      "cell_type": "code",
      "metadata": {
        "colab": {
          "base_uri": "https://localhost:8080/",
          "height": 204
        },
        "id": "RI46Qryr2JUb",
        "outputId": "f2792f82-2337-40ff-a3d2-f8e09387ada4"
      },
      "source": [
        "df = pd.read_csv('Twitch_user_data_1MonthAgo.csv')\r\n",
        "df.head()"
      ],
      "execution_count": null,
      "outputs": [
        {
          "output_type": "execute_result",
          "data": {
            "text/html": [
              "<div>\n",
              "<style scoped>\n",
              "    .dataframe tbody tr th:only-of-type {\n",
              "        vertical-align: middle;\n",
              "    }\n",
              "\n",
              "    .dataframe tbody tr th {\n",
              "        vertical-align: top;\n",
              "    }\n",
              "\n",
              "    .dataframe thead th {\n",
              "        text-align: right;\n",
              "    }\n",
              "</style>\n",
              "<table border=\"1\" class=\"dataframe\">\n",
              "  <thead>\n",
              "    <tr style=\"text-align: right;\">\n",
              "      <th></th>\n",
              "      <th>Channel</th>\n",
              "      <th>Watch time(Minutes)</th>\n",
              "      <th>Stream time(minutes)</th>\n",
              "      <th>Peak viewers</th>\n",
              "      <th>Average viewers</th>\n",
              "      <th>Followers</th>\n",
              "      <th>Followers gained</th>\n",
              "      <th>Views gained</th>\n",
              "      <th>Partnered</th>\n",
              "      <th>Mature</th>\n",
              "      <th>Language</th>\n",
              "    </tr>\n",
              "  </thead>\n",
              "  <tbody>\n",
              "    <tr>\n",
              "      <th>0</th>\n",
              "      <td>xQcOW</td>\n",
              "      <td>6196161750</td>\n",
              "      <td>215250</td>\n",
              "      <td>222720</td>\n",
              "      <td>27716</td>\n",
              "      <td>3246298</td>\n",
              "      <td>1734810</td>\n",
              "      <td>93036735</td>\n",
              "      <td>True</td>\n",
              "      <td>False</td>\n",
              "      <td>English</td>\n",
              "    </tr>\n",
              "    <tr>\n",
              "      <th>1</th>\n",
              "      <td>summit1g</td>\n",
              "      <td>6091677300</td>\n",
              "      <td>211845</td>\n",
              "      <td>310998</td>\n",
              "      <td>25610</td>\n",
              "      <td>5310163</td>\n",
              "      <td>1370184</td>\n",
              "      <td>89705964</td>\n",
              "      <td>True</td>\n",
              "      <td>False</td>\n",
              "      <td>English</td>\n",
              "    </tr>\n",
              "    <tr>\n",
              "      <th>2</th>\n",
              "      <td>Gaules</td>\n",
              "      <td>5644590915</td>\n",
              "      <td>515280</td>\n",
              "      <td>387315</td>\n",
              "      <td>10976</td>\n",
              "      <td>1767635</td>\n",
              "      <td>1023779</td>\n",
              "      <td>102611607</td>\n",
              "      <td>True</td>\n",
              "      <td>True</td>\n",
              "      <td>Portuguese</td>\n",
              "    </tr>\n",
              "    <tr>\n",
              "      <th>3</th>\n",
              "      <td>ESL_CSGO</td>\n",
              "      <td>3970318140</td>\n",
              "      <td>517740</td>\n",
              "      <td>300575</td>\n",
              "      <td>7714</td>\n",
              "      <td>3944850</td>\n",
              "      <td>703986</td>\n",
              "      <td>106546942</td>\n",
              "      <td>True</td>\n",
              "      <td>False</td>\n",
              "      <td>English</td>\n",
              "    </tr>\n",
              "    <tr>\n",
              "      <th>4</th>\n",
              "      <td>Tfue</td>\n",
              "      <td>3671000070</td>\n",
              "      <td>123660</td>\n",
              "      <td>285644</td>\n",
              "      <td>29602</td>\n",
              "      <td>8938903</td>\n",
              "      <td>2068424</td>\n",
              "      <td>78998587</td>\n",
              "      <td>True</td>\n",
              "      <td>False</td>\n",
              "      <td>English</td>\n",
              "    </tr>\n",
              "  </tbody>\n",
              "</table>\n",
              "</div>"
            ],
            "text/plain": [
              "    Channel  Watch time(Minutes)  ...  Mature    Language\n",
              "0     xQcOW           6196161750  ...   False     English\n",
              "1  summit1g           6091677300  ...   False     English\n",
              "2    Gaules           5644590915  ...    True  Portuguese\n",
              "3  ESL_CSGO           3970318140  ...   False     English\n",
              "4      Tfue           3671000070  ...   False     English\n",
              "\n",
              "[5 rows x 11 columns]"
            ]
          },
          "metadata": {
            "tags": []
          },
          "execution_count": 3
        }
      ]
    },
    {
      "cell_type": "code",
      "metadata": {
        "colab": {
          "base_uri": "https://localhost:8080/",
          "height": 204
        },
        "id": "YWdKQKbON2Eo",
        "outputId": "5bf17b17-df98-4ddc-cfff-004dcc3cfaf0"
      },
      "source": [
        "df.rename(columns={'Stream time(minutes)':'Stream_time_min'}, inplace=True)\r\n",
        "df.rename(columns={'Watch time(Minutes)':'Watch_time_min'}, inplace=True)\r\n",
        "df.columns = df.columns.str.replace(' ', '_') \r\n",
        "df.head()"
      ],
      "execution_count": null,
      "outputs": [
        {
          "output_type": "execute_result",
          "data": {
            "text/html": [
              "<div>\n",
              "<style scoped>\n",
              "    .dataframe tbody tr th:only-of-type {\n",
              "        vertical-align: middle;\n",
              "    }\n",
              "\n",
              "    .dataframe tbody tr th {\n",
              "        vertical-align: top;\n",
              "    }\n",
              "\n",
              "    .dataframe thead th {\n",
              "        text-align: right;\n",
              "    }\n",
              "</style>\n",
              "<table border=\"1\" class=\"dataframe\">\n",
              "  <thead>\n",
              "    <tr style=\"text-align: right;\">\n",
              "      <th></th>\n",
              "      <th>Channel</th>\n",
              "      <th>Watch_time_min</th>\n",
              "      <th>Stream_time_min</th>\n",
              "      <th>Peak_viewers</th>\n",
              "      <th>Average_viewers</th>\n",
              "      <th>Followers</th>\n",
              "      <th>Followers_gained</th>\n",
              "      <th>Views_gained</th>\n",
              "      <th>Partnered</th>\n",
              "      <th>Mature</th>\n",
              "      <th>Language</th>\n",
              "    </tr>\n",
              "  </thead>\n",
              "  <tbody>\n",
              "    <tr>\n",
              "      <th>0</th>\n",
              "      <td>xQcOW</td>\n",
              "      <td>6196161750</td>\n",
              "      <td>215250</td>\n",
              "      <td>222720</td>\n",
              "      <td>27716</td>\n",
              "      <td>3246298</td>\n",
              "      <td>1734810</td>\n",
              "      <td>93036735</td>\n",
              "      <td>True</td>\n",
              "      <td>False</td>\n",
              "      <td>English</td>\n",
              "    </tr>\n",
              "    <tr>\n",
              "      <th>1</th>\n",
              "      <td>summit1g</td>\n",
              "      <td>6091677300</td>\n",
              "      <td>211845</td>\n",
              "      <td>310998</td>\n",
              "      <td>25610</td>\n",
              "      <td>5310163</td>\n",
              "      <td>1370184</td>\n",
              "      <td>89705964</td>\n",
              "      <td>True</td>\n",
              "      <td>False</td>\n",
              "      <td>English</td>\n",
              "    </tr>\n",
              "    <tr>\n",
              "      <th>2</th>\n",
              "      <td>Gaules</td>\n",
              "      <td>5644590915</td>\n",
              "      <td>515280</td>\n",
              "      <td>387315</td>\n",
              "      <td>10976</td>\n",
              "      <td>1767635</td>\n",
              "      <td>1023779</td>\n",
              "      <td>102611607</td>\n",
              "      <td>True</td>\n",
              "      <td>True</td>\n",
              "      <td>Portuguese</td>\n",
              "    </tr>\n",
              "    <tr>\n",
              "      <th>3</th>\n",
              "      <td>ESL_CSGO</td>\n",
              "      <td>3970318140</td>\n",
              "      <td>517740</td>\n",
              "      <td>300575</td>\n",
              "      <td>7714</td>\n",
              "      <td>3944850</td>\n",
              "      <td>703986</td>\n",
              "      <td>106546942</td>\n",
              "      <td>True</td>\n",
              "      <td>False</td>\n",
              "      <td>English</td>\n",
              "    </tr>\n",
              "    <tr>\n",
              "      <th>4</th>\n",
              "      <td>Tfue</td>\n",
              "      <td>3671000070</td>\n",
              "      <td>123660</td>\n",
              "      <td>285644</td>\n",
              "      <td>29602</td>\n",
              "      <td>8938903</td>\n",
              "      <td>2068424</td>\n",
              "      <td>78998587</td>\n",
              "      <td>True</td>\n",
              "      <td>False</td>\n",
              "      <td>English</td>\n",
              "    </tr>\n",
              "  </tbody>\n",
              "</table>\n",
              "</div>"
            ],
            "text/plain": [
              "    Channel  Watch_time_min  Stream_time_min  ...  Partnered  Mature    Language\n",
              "0     xQcOW      6196161750           215250  ...       True   False     English\n",
              "1  summit1g      6091677300           211845  ...       True   False     English\n",
              "2    Gaules      5644590915           515280  ...       True    True  Portuguese\n",
              "3  ESL_CSGO      3970318140           517740  ...       True   False     English\n",
              "4      Tfue      3671000070           123660  ...       True   False     English\n",
              "\n",
              "[5 rows x 11 columns]"
            ]
          },
          "metadata": {
            "tags": []
          },
          "execution_count": 4
        }
      ]
    },
    {
      "cell_type": "code",
      "metadata": {
        "id": "YvIpdJF2yz3L"
      },
      "source": [
        "# pd.set_option('display.max_rows', 200)\r\n",
        "# pd.set_option('display.max_columns', 100)"
      ],
      "execution_count": null,
      "outputs": []
    },
    {
      "cell_type": "code",
      "metadata": {
        "id": "slyBmxHr-WQY"
      },
      "source": [
        "df['Stream_time_hr'] = df['Stream_time_min'] /60 \r\n"
      ],
      "execution_count": null,
      "outputs": []
    },
    {
      "cell_type": "code",
      "metadata": {
        "colab": {
          "base_uri": "https://localhost:8080/"
        },
        "id": "D5TiQHXB_Qto",
        "outputId": "992731fa-27ec-4d34-a55a-a6fab5bbb081"
      },
      "source": [
        "df['Stream_time_hr'].head()"
      ],
      "execution_count": null,
      "outputs": [
        {
          "output_type": "execute_result",
          "data": {
            "text/plain": [
              "0    3587.50\n",
              "1    3530.75\n",
              "2    8588.00\n",
              "3    8629.00\n",
              "4    2061.00\n",
              "Name: Stream_time_hr, dtype: float64"
            ]
          },
          "metadata": {
            "tags": []
          },
          "execution_count": 7
        }
      ]
    },
    {
      "cell_type": "code",
      "metadata": {
        "colab": {
          "base_uri": "https://localhost:8080/"
        },
        "id": "LrkDJRaX_59F",
        "outputId": "53c8279e-31c2-4c20-a611-8e2119f21274"
      },
      "source": [
        "df['Stream_time_days'] = df['Stream_time_hr'] / 24\r\n",
        "\r\n",
        "df['Stream_time_days'].head()"
      ],
      "execution_count": null,
      "outputs": [
        {
          "output_type": "execute_result",
          "data": {
            "text/plain": [
              "0    149.479167\n",
              "1    147.114583\n",
              "2    357.833333\n",
              "3    359.541667\n",
              "4     85.875000\n",
              "Name: Stream_time_days, dtype: float64"
            ]
          },
          "metadata": {
            "tags": []
          },
          "execution_count": 8
        }
      ]
    },
    {
      "cell_type": "code",
      "metadata": {
        "colab": {
          "base_uri": "https://localhost:8080/",
          "height": 224
        },
        "id": "GJ0I42DZPSMj",
        "outputId": "12935840-263b-45f5-976f-0f972e6f5c89"
      },
      "source": [
        "df['Followers_gained_per_stream_time_days'] = df['Followers_gained'] / df['Stream_time_days']\r\n",
        "df.head()"
      ],
      "execution_count": null,
      "outputs": [
        {
          "output_type": "execute_result",
          "data": {
            "text/html": [
              "<div>\n",
              "<style scoped>\n",
              "    .dataframe tbody tr th:only-of-type {\n",
              "        vertical-align: middle;\n",
              "    }\n",
              "\n",
              "    .dataframe tbody tr th {\n",
              "        vertical-align: top;\n",
              "    }\n",
              "\n",
              "    .dataframe thead th {\n",
              "        text-align: right;\n",
              "    }\n",
              "</style>\n",
              "<table border=\"1\" class=\"dataframe\">\n",
              "  <thead>\n",
              "    <tr style=\"text-align: right;\">\n",
              "      <th></th>\n",
              "      <th>Channel</th>\n",
              "      <th>Watch_time_min</th>\n",
              "      <th>Stream_time_min</th>\n",
              "      <th>Peak_viewers</th>\n",
              "      <th>Average_viewers</th>\n",
              "      <th>Followers</th>\n",
              "      <th>Followers_gained</th>\n",
              "      <th>Views_gained</th>\n",
              "      <th>Partnered</th>\n",
              "      <th>Mature</th>\n",
              "      <th>Language</th>\n",
              "      <th>Stream_time_hr</th>\n",
              "      <th>Stream_time_days</th>\n",
              "      <th>Followers_gained_per_stream_time_days</th>\n",
              "    </tr>\n",
              "  </thead>\n",
              "  <tbody>\n",
              "    <tr>\n",
              "      <th>0</th>\n",
              "      <td>xQcOW</td>\n",
              "      <td>6196161750</td>\n",
              "      <td>215250</td>\n",
              "      <td>222720</td>\n",
              "      <td>27716</td>\n",
              "      <td>3246298</td>\n",
              "      <td>1734810</td>\n",
              "      <td>93036735</td>\n",
              "      <td>True</td>\n",
              "      <td>False</td>\n",
              "      <td>English</td>\n",
              "      <td>3587.50</td>\n",
              "      <td>149.479167</td>\n",
              "      <td>11605.697561</td>\n",
              "    </tr>\n",
              "    <tr>\n",
              "      <th>1</th>\n",
              "      <td>summit1g</td>\n",
              "      <td>6091677300</td>\n",
              "      <td>211845</td>\n",
              "      <td>310998</td>\n",
              "      <td>25610</td>\n",
              "      <td>5310163</td>\n",
              "      <td>1370184</td>\n",
              "      <td>89705964</td>\n",
              "      <td>True</td>\n",
              "      <td>False</td>\n",
              "      <td>English</td>\n",
              "      <td>3530.75</td>\n",
              "      <td>147.114583</td>\n",
              "      <td>9313.719748</td>\n",
              "    </tr>\n",
              "    <tr>\n",
              "      <th>2</th>\n",
              "      <td>Gaules</td>\n",
              "      <td>5644590915</td>\n",
              "      <td>515280</td>\n",
              "      <td>387315</td>\n",
              "      <td>10976</td>\n",
              "      <td>1767635</td>\n",
              "      <td>1023779</td>\n",
              "      <td>102611607</td>\n",
              "      <td>True</td>\n",
              "      <td>True</td>\n",
              "      <td>Portuguese</td>\n",
              "      <td>8588.00</td>\n",
              "      <td>357.833333</td>\n",
              "      <td>2861.049837</td>\n",
              "    </tr>\n",
              "    <tr>\n",
              "      <th>3</th>\n",
              "      <td>ESL_CSGO</td>\n",
              "      <td>3970318140</td>\n",
              "      <td>517740</td>\n",
              "      <td>300575</td>\n",
              "      <td>7714</td>\n",
              "      <td>3944850</td>\n",
              "      <td>703986</td>\n",
              "      <td>106546942</td>\n",
              "      <td>True</td>\n",
              "      <td>False</td>\n",
              "      <td>English</td>\n",
              "      <td>8629.00</td>\n",
              "      <td>359.541667</td>\n",
              "      <td>1958.009503</td>\n",
              "    </tr>\n",
              "    <tr>\n",
              "      <th>4</th>\n",
              "      <td>Tfue</td>\n",
              "      <td>3671000070</td>\n",
              "      <td>123660</td>\n",
              "      <td>285644</td>\n",
              "      <td>29602</td>\n",
              "      <td>8938903</td>\n",
              "      <td>2068424</td>\n",
              "      <td>78998587</td>\n",
              "      <td>True</td>\n",
              "      <td>False</td>\n",
              "      <td>English</td>\n",
              "      <td>2061.00</td>\n",
              "      <td>85.875000</td>\n",
              "      <td>24086.451237</td>\n",
              "    </tr>\n",
              "  </tbody>\n",
              "</table>\n",
              "</div>"
            ],
            "text/plain": [
              "    Channel  ...  Followers_gained_per_stream_time_days\n",
              "0     xQcOW  ...                           11605.697561\n",
              "1  summit1g  ...                            9313.719748\n",
              "2    Gaules  ...                            2861.049837\n",
              "3  ESL_CSGO  ...                            1958.009503\n",
              "4      Tfue  ...                           24086.451237\n",
              "\n",
              "[5 rows x 14 columns]"
            ]
          },
          "metadata": {
            "tags": []
          },
          "execution_count": 9
        }
      ]
    },
    {
      "cell_type": "code",
      "metadata": {
        "colab": {
          "base_uri": "https://localhost:8080/"
        },
        "id": "BSMHdKztCK_F",
        "outputId": "0693af3b-a816-40bf-bf71-00b703bc4993"
      },
      "source": [
        "list(df.columns.values)\r\n"
      ],
      "execution_count": null,
      "outputs": [
        {
          "output_type": "execute_result",
          "data": {
            "text/plain": [
              "['Channel',\n",
              " 'Watch_time_min',\n",
              " 'Stream_time_min',\n",
              " 'Peak_viewers',\n",
              " 'Average_viewers',\n",
              " 'Followers',\n",
              " 'Followers_gained',\n",
              " 'Views_gained',\n",
              " 'Partnered',\n",
              " 'Mature',\n",
              " 'Language',\n",
              " 'Stream_time_hr',\n",
              " 'Stream_time_days',\n",
              " 'Followers_gained_per_stream_time_days']"
            ]
          },
          "metadata": {
            "tags": []
          },
          "execution_count": 10
        }
      ]
    },
    {
      "cell_type": "code",
      "metadata": {
        "id": "zov8-c8X8Rx4"
      },
      "source": [
        "index = ['Channel',\r\n",
        " 'Watch_time_min',\r\n",
        " 'Stream_time_min',\r\n",
        " 'Stream_time_hr',\r\n",
        " 'Stream_time_days',\r\n",
        " 'Peak_viewers',\r\n",
        " 'Average_viewers',\r\n",
        " 'Followers',\r\n",
        " 'Followers_gained',\r\n",
        " 'Followers_gained_per_stream_time_days',\r\n",
        " 'Views_gained',\r\n",
        " 'Partnered',\r\n",
        " 'Mature',\r\n",
        " 'Language'\r\n",
        "]\r\n",
        "\r\n",
        "df = df[index]"
      ],
      "execution_count": null,
      "outputs": []
    },
    {
      "cell_type": "markdown",
      "metadata": {
        "id": "xz17Tt1hTnwT"
      },
      "source": [
        ""
      ]
    },
    {
      "cell_type": "code",
      "metadata": {
        "colab": {
          "base_uri": "https://localhost:8080/",
          "height": 258
        },
        "id": "cbDwzBaMO8gi",
        "outputId": "82ef9c3b-4f12-44f0-b924-23e5d76bc34c"
      },
      "source": [
        "df.tail()"
      ],
      "execution_count": null,
      "outputs": [
        {
          "output_type": "execute_result",
          "data": {
            "text/html": [
              "<div>\n",
              "<style scoped>\n",
              "    .dataframe tbody tr th:only-of-type {\n",
              "        vertical-align: middle;\n",
              "    }\n",
              "\n",
              "    .dataframe tbody tr th {\n",
              "        vertical-align: top;\n",
              "    }\n",
              "\n",
              "    .dataframe thead th {\n",
              "        text-align: right;\n",
              "    }\n",
              "</style>\n",
              "<table border=\"1\" class=\"dataframe\">\n",
              "  <thead>\n",
              "    <tr style=\"text-align: right;\">\n",
              "      <th></th>\n",
              "      <th>Channel</th>\n",
              "      <th>Watch_time_min</th>\n",
              "      <th>Stream_time_min</th>\n",
              "      <th>Stream_time_hr</th>\n",
              "      <th>Stream_time_days</th>\n",
              "      <th>Peak_viewers</th>\n",
              "      <th>Average_viewers</th>\n",
              "      <th>Followers</th>\n",
              "      <th>Followers_gained</th>\n",
              "      <th>Followers_gained_per_stream_time_days</th>\n",
              "      <th>Views_gained</th>\n",
              "      <th>Partnered</th>\n",
              "      <th>Mature</th>\n",
              "      <th>Language</th>\n",
              "    </tr>\n",
              "  </thead>\n",
              "  <tbody>\n",
              "    <tr>\n",
              "      <th>995</th>\n",
              "      <td>LITkillah</td>\n",
              "      <td>122524635</td>\n",
              "      <td>13560</td>\n",
              "      <td>226.00</td>\n",
              "      <td>9.416667</td>\n",
              "      <td>21359</td>\n",
              "      <td>9104</td>\n",
              "      <td>601927</td>\n",
              "      <td>562691</td>\n",
              "      <td>59754.796460</td>\n",
              "      <td>2162107</td>\n",
              "      <td>True</td>\n",
              "      <td>False</td>\n",
              "      <td>Spanish</td>\n",
              "    </tr>\n",
              "    <tr>\n",
              "      <th>996</th>\n",
              "      <td>빅헤드 (bighead033)</td>\n",
              "      <td>122523705</td>\n",
              "      <td>153000</td>\n",
              "      <td>2550.00</td>\n",
              "      <td>106.250000</td>\n",
              "      <td>3940</td>\n",
              "      <td>793</td>\n",
              "      <td>213212</td>\n",
              "      <td>52289</td>\n",
              "      <td>492.131765</td>\n",
              "      <td>4399897</td>\n",
              "      <td>True</td>\n",
              "      <td>False</td>\n",
              "      <td>Korean</td>\n",
              "    </tr>\n",
              "    <tr>\n",
              "      <th>997</th>\n",
              "      <td>마스카 (newmasca)</td>\n",
              "      <td>122452320</td>\n",
              "      <td>217410</td>\n",
              "      <td>3623.50</td>\n",
              "      <td>150.979167</td>\n",
              "      <td>6431</td>\n",
              "      <td>567</td>\n",
              "      <td>109068</td>\n",
              "      <td>-4942</td>\n",
              "      <td>-32.732993</td>\n",
              "      <td>3417970</td>\n",
              "      <td>True</td>\n",
              "      <td>False</td>\n",
              "      <td>Korean</td>\n",
              "    </tr>\n",
              "    <tr>\n",
              "      <th>998</th>\n",
              "      <td>AndyMilonakis</td>\n",
              "      <td>122311065</td>\n",
              "      <td>104745</td>\n",
              "      <td>1745.75</td>\n",
              "      <td>72.739583</td>\n",
              "      <td>10543</td>\n",
              "      <td>1153</td>\n",
              "      <td>547446</td>\n",
              "      <td>109111</td>\n",
              "      <td>1500.022340</td>\n",
              "      <td>3926918</td>\n",
              "      <td>True</td>\n",
              "      <td>False</td>\n",
              "      <td>English</td>\n",
              "    </tr>\n",
              "    <tr>\n",
              "      <th>999</th>\n",
              "      <td>Remx</td>\n",
              "      <td>122192850</td>\n",
              "      <td>99180</td>\n",
              "      <td>1653.00</td>\n",
              "      <td>68.875000</td>\n",
              "      <td>13788</td>\n",
              "      <td>1205</td>\n",
              "      <td>178553</td>\n",
              "      <td>59432</td>\n",
              "      <td>862.896552</td>\n",
              "      <td>2049420</td>\n",
              "      <td>True</td>\n",
              "      <td>False</td>\n",
              "      <td>French</td>\n",
              "    </tr>\n",
              "  </tbody>\n",
              "</table>\n",
              "</div>"
            ],
            "text/plain": [
              "              Channel  Watch_time_min  ...  Mature  Language\n",
              "995         LITkillah       122524635  ...   False   Spanish\n",
              "996  빅헤드 (bighead033)       122523705  ...   False    Korean\n",
              "997    마스카 (newmasca)       122452320  ...   False    Korean\n",
              "998     AndyMilonakis       122311065  ...   False   English\n",
              "999              Remx       122192850  ...   False    French\n",
              "\n",
              "[5 rows x 14 columns]"
            ]
          },
          "metadata": {
            "tags": []
          },
          "execution_count": 12
        }
      ]
    },
    {
      "cell_type": "markdown",
      "metadata": {
        "id": "_22HYuBSTwWI"
      },
      "source": [
        "#Graphing Data for Twitch"
      ]
    },
    {
      "cell_type": "code",
      "metadata": {
        "colab": {
          "base_uri": "https://localhost:8080/"
        },
        "id": "o8P6mzWnT8Jo",
        "outputId": "aa84654a-196e-41bc-db4f-240b8b248414"
      },
      "source": [
        "figure, ax = plt.subplots()\r\n",
        "ax.scatter(df['Stream_time_hr'], \r\n",
        "           df['Followers_gained'])\r\n",
        "\r\n",
        "ax.set_title('Followers gained based on total stream time')\r\n",
        "ax.set_xlabel('Stream time(hr)')\r\n",
        "ax.set_ylabel('Followers gained(million)')\r\n",
        "\r\n",
        "plt.show()"
      ],
      "execution_count": null,
      "outputs": [
        {
          "output_type": "display_data",
          "data": {
            "image/png": "[encoded data removed]",
            "text/plain": [
              "<Figure size 432x288 with 1 Axes>"
            ]
          },
          "metadata": {
            "tags": [],
            "needs_background": "light"
          }
        }
      ]
    },
    {
      "cell_type": "code",
      "metadata": {
        "colab": {
          "base_uri": "https://localhost:8080/"
        },
        "id": "cGJflbyzXsMV",
        "outputId": "8e650af4-943b-4686-b47e-6c655a292259"
      },
      "source": [
        "df.describe()"
      ],
      "execution_count": null,
      "outputs": [
        {
          "output_type": "execute_result",
          "data": {
            "text/html": [
              "<div>\n",
              "<style scoped>\n",
              "    .dataframe tbody tr th:only-of-type {\n",
              "        vertical-align: middle;\n",
              "    }\n",
              "\n",
              "    .dataframe tbody tr th {\n",
              "        vertical-align: top;\n",
              "    }\n",
              "\n",
              "    .dataframe thead th {\n",
              "        text-align: right;\n",
              "    }\n",
              "</style>\n",
              "<table border=\"1\" class=\"dataframe\">\n",
              "  <thead>\n",
              "    <tr style=\"text-align: right;\">\n",
              "      <th></th>\n",
              "      <th>Watch_time_min</th>\n",
              "      <th>Stream_time_min</th>\n",
              "      <th>Stream_time_hr</th>\n",
              "      <th>Stream_time_days</th>\n",
              "      <th>Peak_viewers</th>\n",
              "      <th>Average_viewers</th>\n",
              "      <th>Followers</th>\n",
              "      <th>Followers_gained</th>\n",
              "      <th>Followers_gained_per_stream_time_days</th>\n",
              "      <th>Views_gained</th>\n",
              "    </tr>\n",
              "  </thead>\n",
              "  <tbody>\n",
              "    <tr>\n",
              "      <th>count</th>\n",
              "      <td>1.000000e+03</td>\n",
              "      <td>1000.000000</td>\n",
              "      <td>1000.000000</td>\n",
              "      <td>1000.000000</td>\n",
              "      <td>1000.000000</td>\n",
              "      <td>1000.000000</td>\n",
              "      <td>1.000000e+03</td>\n",
              "      <td>1.000000e+03</td>\n",
              "      <td>1000.000000</td>\n",
              "      <td>1.000000e+03</td>\n",
              "    </tr>\n",
              "    <tr>\n",
              "      <th>mean</th>\n",
              "      <td>4.184279e+08</td>\n",
              "      <td>120515.160000</td>\n",
              "      <td>2008.586000</td>\n",
              "      <td>83.691083</td>\n",
              "      <td>37065.051000</td>\n",
              "      <td>4781.040000</td>\n",
              "      <td>5.700541e+05</td>\n",
              "      <td>2.055185e+05</td>\n",
              "      <td>5144.693309</td>\n",
              "      <td>1.166817e+07</td>\n",
              "    </tr>\n",
              "    <tr>\n",
              "      <th>std</th>\n",
              "      <td>5.496355e+08</td>\n",
              "      <td>85376.201364</td>\n",
              "      <td>1422.936689</td>\n",
              "      <td>59.289029</td>\n",
              "      <td>60314.307686</td>\n",
              "      <td>8453.684965</td>\n",
              "      <td>8.044134e+05</td>\n",
              "      <td>3.399137e+05</td>\n",
              "      <td>14385.673894</td>\n",
              "      <td>2.490572e+07</td>\n",
              "    </tr>\n",
              "    <tr>\n",
              "      <th>min</th>\n",
              "      <td>1.221928e+08</td>\n",
              "      <td>3465.000000</td>\n",
              "      <td>57.750000</td>\n",
              "      <td>2.406250</td>\n",
              "      <td>496.000000</td>\n",
              "      <td>235.000000</td>\n",
              "      <td>3.660000e+03</td>\n",
              "      <td>-1.577200e+04</td>\n",
              "      <td>-120.521531</td>\n",
              "      <td>1.757880e+05</td>\n",
              "    </tr>\n",
              "    <tr>\n",
              "      <th>25%</th>\n",
              "      <td>1.631899e+08</td>\n",
              "      <td>73758.750000</td>\n",
              "      <td>1229.312500</td>\n",
              "      <td>51.221354</td>\n",
              "      <td>9113.750000</td>\n",
              "      <td>1457.750000</td>\n",
              "      <td>1.705462e+05</td>\n",
              "      <td>4.375825e+04</td>\n",
              "      <td>493.056012</td>\n",
              "      <td>3.880602e+06</td>\n",
              "    </tr>\n",
              "    <tr>\n",
              "      <th>50%</th>\n",
              "      <td>2.349908e+08</td>\n",
              "      <td>108240.000000</td>\n",
              "      <td>1804.000000</td>\n",
              "      <td>75.166667</td>\n",
              "      <td>16676.000000</td>\n",
              "      <td>2425.000000</td>\n",
              "      <td>3.180630e+05</td>\n",
              "      <td>9.835200e+04</td>\n",
              "      <td>1373.833531</td>\n",
              "      <td>6.456324e+06</td>\n",
              "    </tr>\n",
              "    <tr>\n",
              "      <th>75%</th>\n",
              "      <td>4.337399e+08</td>\n",
              "      <td>141843.750000</td>\n",
              "      <td>2364.062500</td>\n",
              "      <td>98.502604</td>\n",
              "      <td>37569.750000</td>\n",
              "      <td>4786.250000</td>\n",
              "      <td>6.243322e+05</td>\n",
              "      <td>2.361308e+05</td>\n",
              "      <td>3999.377922</td>\n",
              "      <td>1.219676e+07</td>\n",
              "    </tr>\n",
              "    <tr>\n",
              "      <th>max</th>\n",
              "      <td>6.196162e+09</td>\n",
              "      <td>521445.000000</td>\n",
              "      <td>8690.750000</td>\n",
              "      <td>362.114583</td>\n",
              "      <td>639375.000000</td>\n",
              "      <td>147643.000000</td>\n",
              "      <td>8.938903e+06</td>\n",
              "      <td>3.966525e+06</td>\n",
              "      <td>282551.359498</td>\n",
              "      <td>6.701375e+08</td>\n",
              "    </tr>\n",
              "  </tbody>\n",
              "</table>\n",
              "</div>"
            ],
            "text/plain": [
              "       Watch_time_min  ...  Views_gained\n",
              "count    1.000000e+03  ...  1.000000e+03\n",
              "mean     4.184279e+08  ...  1.166817e+07\n",
              "std      5.496355e+08  ...  2.490572e+07\n",
              "min      1.221928e+08  ...  1.757880e+05\n",
              "25%      1.631899e+08  ...  3.880602e+06\n",
              "50%      2.349908e+08  ...  6.456324e+06\n",
              "75%      4.337399e+08  ...  1.219676e+07\n",
              "max      6.196162e+09  ...  6.701375e+08\n",
              "\n",
              "[8 rows x 10 columns]"
            ]
          },
          "metadata": {
            "tags": []
          },
          "execution_count": 14
        }
      ]
    },
    {
      "cell_type": "code",
      "metadata": {
        "colab": {
          "base_uri": "https://localhost:8080/"
        },
        "id": "RZEXBvqpOqa-",
        "outputId": "e99da89a-e0d9-4596-d691-18f643f777fe"
      },
      "source": [
        "df['Stream_time_days'].sort_values(ascending = True)"
      ],
      "execution_count": null,
      "outputs": [
        {
          "output_type": "execute_result",
          "data": {
            "text/plain": [
              "990      2.406250\n",
              "927      2.531250\n",
              "811      4.260417\n",
              "109      4.302083\n",
              "81       4.385417\n",
              "          ...    \n",
              "469    359.708333\n",
              "306    360.010417\n",
              "746    360.885417\n",
              "992    362.104167\n",
              "392    362.114583\n",
              "Name: Stream_time_days, Length: 1000, dtype: float64"
            ]
          },
          "metadata": {
            "tags": []
          },
          "execution_count": 15
        }
      ]
    },
    {
      "cell_type": "code",
      "metadata": {
        "colab": {
          "base_uri": "https://localhost:8080/"
        },
        "id": "BjcaG1eFQCWP",
        "outputId": "54b5af5b-f1b7-4c10-e678-5de401dcaf8a"
      },
      "source": [
        "df_sorted = df.sort_values(ascending = False, by = 'Stream_time_days')\r\n",
        "df_sorted.head()"
      ],
      "execution_count": null,
      "outputs": [
        {
          "output_type": "execute_result",
          "data": {
            "text/html": [
              "<div>\n",
              "<style scoped>\n",
              "    .dataframe tbody tr th:only-of-type {\n",
              "        vertical-align: middle;\n",
              "    }\n",
              "\n",
              "    .dataframe tbody tr th {\n",
              "        vertical-align: top;\n",
              "    }\n",
              "\n",
              "    .dataframe thead th {\n",
              "        text-align: right;\n",
              "    }\n",
              "</style>\n",
              "<table border=\"1\" class=\"dataframe\">\n",
              "  <thead>\n",
              "    <tr style=\"text-align: right;\">\n",
              "      <th></th>\n",
              "      <th>Channel</th>\n",
              "      <th>Watch_time_min</th>\n",
              "      <th>Stream_time_min</th>\n",
              "      <th>Stream_time_hr</th>\n",
              "      <th>Stream_time_days</th>\n",
              "      <th>Peak_viewers</th>\n",
              "      <th>Average_viewers</th>\n",
              "      <th>Followers</th>\n",
              "      <th>Followers_gained</th>\n",
              "      <th>Followers_gained_per_stream_time_days</th>\n",
              "      <th>Views_gained</th>\n",
              "      <th>Partnered</th>\n",
              "      <th>Mature</th>\n",
              "      <th>Language</th>\n",
              "    </tr>\n",
              "  </thead>\n",
              "  <tbody>\n",
              "    <tr>\n",
              "      <th>392</th>\n",
              "      <td>RiffTrax</td>\n",
              "      <td>293583075</td>\n",
              "      <td>521445</td>\n",
              "      <td>8690.75</td>\n",
              "      <td>362.114583</td>\n",
              "      <td>24765</td>\n",
              "      <td>562</td>\n",
              "      <td>79099</td>\n",
              "      <td>17200</td>\n",
              "      <td>47.498777</td>\n",
              "      <td>3313465</td>\n",
              "      <td>True</td>\n",
              "      <td>False</td>\n",
              "      <td>English</td>\n",
              "    </tr>\n",
              "    <tr>\n",
              "      <th>992</th>\n",
              "      <td>RelaxBeats</td>\n",
              "      <td>123273930</td>\n",
              "      <td>521430</td>\n",
              "      <td>8690.50</td>\n",
              "      <td>362.104167</td>\n",
              "      <td>2830</td>\n",
              "      <td>235</td>\n",
              "      <td>166162</td>\n",
              "      <td>29595</td>\n",
              "      <td>81.730625</td>\n",
              "      <td>1094850</td>\n",
              "      <td>True</td>\n",
              "      <td>False</td>\n",
              "      <td>English</td>\n",
              "    </tr>\n",
              "    <tr>\n",
              "      <th>746</th>\n",
              "      <td>Monstercat</td>\n",
              "      <td>163589370</td>\n",
              "      <td>519675</td>\n",
              "      <td>8661.25</td>\n",
              "      <td>360.885417</td>\n",
              "      <td>14261</td>\n",
              "      <td>313</td>\n",
              "      <td>788684</td>\n",
              "      <td>22331</td>\n",
              "      <td>61.878366</td>\n",
              "      <td>4084222</td>\n",
              "      <td>True</td>\n",
              "      <td>False</td>\n",
              "      <td>English</td>\n",
              "    </tr>\n",
              "    <tr>\n",
              "      <th>306</th>\n",
              "      <td>RocketBeansTV</td>\n",
              "      <td>360858030</td>\n",
              "      <td>518415</td>\n",
              "      <td>8640.25</td>\n",
              "      <td>360.010417</td>\n",
              "      <td>5223</td>\n",
              "      <td>696</td>\n",
              "      <td>416018</td>\n",
              "      <td>27024</td>\n",
              "      <td>75.064495</td>\n",
              "      <td>5973152</td>\n",
              "      <td>True</td>\n",
              "      <td>False</td>\n",
              "      <td>German</td>\n",
              "    </tr>\n",
              "    <tr>\n",
              "      <th>469</th>\n",
              "      <td>SaltyTeemo</td>\n",
              "      <td>247613265</td>\n",
              "      <td>517980</td>\n",
              "      <td>8633.00</td>\n",
              "      <td>359.708333</td>\n",
              "      <td>1803</td>\n",
              "      <td>476</td>\n",
              "      <td>173196</td>\n",
              "      <td>36103</td>\n",
              "      <td>100.367427</td>\n",
              "      <td>2117741</td>\n",
              "      <td>False</td>\n",
              "      <td>False</td>\n",
              "      <td>English</td>\n",
              "    </tr>\n",
              "  </tbody>\n",
              "</table>\n",
              "</div>"
            ],
            "text/plain": [
              "           Channel  Watch_time_min  Stream_time_min  ...  Partnered  Mature  Language\n",
              "392       RiffTrax       293583075           521445  ...       True   False   English\n",
              "992     RelaxBeats       123273930           521430  ...       True   False   English\n",
              "746     Monstercat       163589370           519675  ...       True   False   English\n",
              "306  RocketBeansTV       360858030           518415  ...       True   False    German\n",
              "469     SaltyTeemo       247613265           517980  ...      False   False   English\n",
              "\n",
              "[5 rows x 14 columns]"
            ]
          },
          "metadata": {
            "tags": []
          },
          "execution_count": 16
        }
      ]
    },
    {
      "cell_type": "markdown",
      "metadata": {
        "id": "20JmlOpvKD8J"
      },
      "source": [
        "#T-Test For Twitch"
      ]
    },
    {
      "cell_type": "markdown",
      "metadata": {
        "id": "i7f0nTGJRmdK"
      },
      "source": [
        "Streamers should stream 5 hours a day, 5 days a week = 1303.57 hrs a year\r\n",
        "\r\n",
        "Many hours streamed == greater than 1303.57\r\n",
        "Not many hours streamed == less than 1303.57"
      ]
    },
    {
      "cell_type": "code",
      "metadata": {
        "id": "hHgWMOuARf-l"
      },
      "source": [
        "low_condition = df['Stream_time_hr'] <= 1303.57\r\n",
        "df.loc[low_condition, 'Streams_a_lot'] = 0\r\n",
        "df.loc[~low_condition, 'Streams_a_lot'] = 1"
      ],
      "execution_count": null,
      "outputs": []
    },
    {
      "cell_type": "code",
      "metadata": {
        "colab": {
          "base_uri": "https://localhost:8080/",
          "height": 258
        },
        "id": "e1VpvjmaS47o",
        "outputId": "a63d6a8a-59b9-4701-dc6e-617c977559c0"
      },
      "source": [
        "df.tail()"
      ],
      "execution_count": null,
      "outputs": [
        {
          "output_type": "execute_result",
          "data": {
            "text/html": [
              "<div>\n",
              "<style scoped>\n",
              "    .dataframe tbody tr th:only-of-type {\n",
              "        vertical-align: middle;\n",
              "    }\n",
              "\n",
              "    .dataframe tbody tr th {\n",
              "        vertical-align: top;\n",
              "    }\n",
              "\n",
              "    .dataframe thead th {\n",
              "        text-align: right;\n",
              "    }\n",
              "</style>\n",
              "<table border=\"1\" class=\"dataframe\">\n",
              "  <thead>\n",
              "    <tr style=\"text-align: right;\">\n",
              "      <th></th>\n",
              "      <th>Channel</th>\n",
              "      <th>Watch_time_min</th>\n",
              "      <th>Stream_time_min</th>\n",
              "      <th>Stream_time_hr</th>\n",
              "      <th>Stream_time_days</th>\n",
              "      <th>Peak_viewers</th>\n",
              "      <th>Average_viewers</th>\n",
              "      <th>Followers</th>\n",
              "      <th>Followers_gained</th>\n",
              "      <th>Followers_gained_per_stream_time_days</th>\n",
              "      <th>Views_gained</th>\n",
              "      <th>Partnered</th>\n",
              "      <th>Mature</th>\n",
              "      <th>Language</th>\n",
              "      <th>Streams_a_lot</th>\n",
              "    </tr>\n",
              "  </thead>\n",
              "  <tbody>\n",
              "    <tr>\n",
              "      <th>995</th>\n",
              "      <td>LITkillah</td>\n",
              "      <td>122524635</td>\n",
              "      <td>13560</td>\n",
              "      <td>226.00</td>\n",
              "      <td>9.416667</td>\n",
              "      <td>21359</td>\n",
              "      <td>9104</td>\n",
              "      <td>601927</td>\n",
              "      <td>562691</td>\n",
              "      <td>59754.796460</td>\n",
              "      <td>2162107</td>\n",
              "      <td>True</td>\n",
              "      <td>False</td>\n",
              "      <td>Spanish</td>\n",
              "      <td>0.0</td>\n",
              "    </tr>\n",
              "    <tr>\n",
              "      <th>996</th>\n",
              "      <td>빅헤드 (bighead033)</td>\n",
              "      <td>122523705</td>\n",
              "      <td>153000</td>\n",
              "      <td>2550.00</td>\n",
              "      <td>106.250000</td>\n",
              "      <td>3940</td>\n",
              "      <td>793</td>\n",
              "      <td>213212</td>\n",
              "      <td>52289</td>\n",
              "      <td>492.131765</td>\n",
              "      <td>4399897</td>\n",
              "      <td>True</td>\n",
              "      <td>False</td>\n",
              "      <td>Korean</td>\n",
              "      <td>1.0</td>\n",
              "    </tr>\n",
              "    <tr>\n",
              "      <th>997</th>\n",
              "      <td>마스카 (newmasca)</td>\n",
              "      <td>122452320</td>\n",
              "      <td>217410</td>\n",
              "      <td>3623.50</td>\n",
              "      <td>150.979167</td>\n",
              "      <td>6431</td>\n",
              "      <td>567</td>\n",
              "      <td>109068</td>\n",
              "      <td>-4942</td>\n",
              "      <td>-32.732993</td>\n",
              "      <td>3417970</td>\n",
              "      <td>True</td>\n",
              "      <td>False</td>\n",
              "      <td>Korean</td>\n",
              "      <td>1.0</td>\n",
              "    </tr>\n",
              "    <tr>\n",
              "      <th>998</th>\n",
              "      <td>AndyMilonakis</td>\n",
              "      <td>122311065</td>\n",
              "      <td>104745</td>\n",
              "      <td>1745.75</td>\n",
              "      <td>72.739583</td>\n",
              "      <td>10543</td>\n",
              "      <td>1153</td>\n",
              "      <td>547446</td>\n",
              "      <td>109111</td>\n",
              "      <td>1500.022340</td>\n",
              "      <td>3926918</td>\n",
              "      <td>True</td>\n",
              "      <td>False</td>\n",
              "      <td>English</td>\n",
              "      <td>1.0</td>\n",
              "    </tr>\n",
              "    <tr>\n",
              "      <th>999</th>\n",
              "      <td>Remx</td>\n",
              "      <td>122192850</td>\n",
              "      <td>99180</td>\n",
              "      <td>1653.00</td>\n",
              "      <td>68.875000</td>\n",
              "      <td>13788</td>\n",
              "      <td>1205</td>\n",
              "      <td>178553</td>\n",
              "      <td>59432</td>\n",
              "      <td>862.896552</td>\n",
              "      <td>2049420</td>\n",
              "      <td>True</td>\n",
              "      <td>False</td>\n",
              "      <td>French</td>\n",
              "      <td>1.0</td>\n",
              "    </tr>\n",
              "  </tbody>\n",
              "</table>\n",
              "</div>"
            ],
            "text/plain": [
              "              Channel  Watch_time_min  ...  Language  Streams_a_lot\n",
              "995         LITkillah       122524635  ...   Spanish            0.0\n",
              "996  빅헤드 (bighead033)       122523705  ...    Korean            1.0\n",
              "997    마스카 (newmasca)       122452320  ...    Korean            1.0\n",
              "998     AndyMilonakis       122311065  ...   English            1.0\n",
              "999              Remx       122192850  ...    French            1.0\n",
              "\n",
              "[5 rows x 15 columns]"
            ]
          },
          "metadata": {
            "tags": []
          },
          "execution_count": 18
        }
      ]
    },
    {
      "cell_type": "code",
      "metadata": {
        "colab": {
          "base_uri": "https://localhost:8080/"
        },
        "id": "pN8rS0qmTLdt",
        "outputId": "505bc091-c612-43cd-9451-aabd515fc424"
      },
      "source": [
        "df['Streams_a_lot'].value_counts()"
      ],
      "execution_count": null,
      "outputs": [
        {
          "output_type": "execute_result",
          "data": {
            "text/plain": [
              "1.0    724\n",
              "0.0    276\n",
              "Name: Streams_a_lot, dtype: int64"
            ]
          },
          "metadata": {
            "tags": []
          },
          "execution_count": 19
        }
      ]
    },
    {
      "cell_type": "markdown",
      "metadata": {
        "id": "RzzSOm8CKJax"
      },
      "source": [
        "$H_0: \\mu_{StreamsALot} = \\mu_{StreamsNotALot}$\r\n",
        "\r\n",
        "$H_a: \\mu_{StreamsALot} \\neq \\mu_{StreamsALot}$\r\n",
        "\r\n",
        "**Null hypothesis**: Streamers who stream a lot(>1303.57 hours a year) and streamers who don't stream as much will have the same amount of followers gained\r\n",
        "\r\n",
        "Significance level will be at 0.05%"
      ]
    },
    {
      "cell_type": "code",
      "metadata": {
        "id": "8mNV7B36LKLv"
      },
      "source": [
        "# import numpy as np\r\n",
        "# from scipy import stats as st\r\n",
        "\r\n",
        "# younger_ = Brain_df[Brain_df.Age == 1]\r\n",
        "\r\n",
        "# younger = younger_[['Brain']]\r\n",
        "\r\n",
        "\r\n",
        "# older_ = Brain_df[Brain_df.Age == 2]\r\n",
        "\r\n",
        "# older = older_[['Brain']]\r\n",
        "\r\n",
        "# t_stat, p_value = st.ttest_ind(younger,older,equal_var=False)\r\n",
        "\r\n",
        "# print(t_stat)\r\n",
        "# print(p_value)\r\n"
      ],
      "execution_count": null,
      "outputs": []
    },
    {
      "cell_type": "code",
      "metadata": {
        "colab": {
          "base_uri": "https://localhost:8080/",
          "height": 224
        },
        "id": "IsR9ZRVZTsed",
        "outputId": "2b4aac7e-9bfb-4f61-afb3-1c97d82ed450"
      },
      "source": [
        "from scipy import stats as st\r\n",
        "\r\n",
        "streams_a_lot_ = df[df['Streams_a_lot'] == 1]\r\n",
        "streams_not_a_lot_ = df[df['Streams_a_lot'] == 0]\r\n",
        "\r\n",
        "streams_a_lot_.head()"
      ],
      "execution_count": null,
      "outputs": [
        {
          "output_type": "execute_result",
          "data": {
            "text/html": [
              "<div>\n",
              "<style scoped>\n",
              "    .dataframe tbody tr th:only-of-type {\n",
              "        vertical-align: middle;\n",
              "    }\n",
              "\n",
              "    .dataframe tbody tr th {\n",
              "        vertical-align: top;\n",
              "    }\n",
              "\n",
              "    .dataframe thead th {\n",
              "        text-align: right;\n",
              "    }\n",
              "</style>\n",
              "<table border=\"1\" class=\"dataframe\">\n",
              "  <thead>\n",
              "    <tr style=\"text-align: right;\">\n",
              "      <th></th>\n",
              "      <th>Channel</th>\n",
              "      <th>Watch_time_min</th>\n",
              "      <th>Stream_time_min</th>\n",
              "      <th>Stream_time_hr</th>\n",
              "      <th>Stream_time_days</th>\n",
              "      <th>Peak_viewers</th>\n",
              "      <th>Average_viewers</th>\n",
              "      <th>Followers</th>\n",
              "      <th>Followers_gained</th>\n",
              "      <th>Followers_gained_per_stream_time_days</th>\n",
              "      <th>Views_gained</th>\n",
              "      <th>Partnered</th>\n",
              "      <th>Mature</th>\n",
              "      <th>Language</th>\n",
              "      <th>Streams_a_lot</th>\n",
              "    </tr>\n",
              "  </thead>\n",
              "  <tbody>\n",
              "    <tr>\n",
              "      <th>0</th>\n",
              "      <td>xQcOW</td>\n",
              "      <td>6196161750</td>\n",
              "      <td>215250</td>\n",
              "      <td>3587.50</td>\n",
              "      <td>149.479167</td>\n",
              "      <td>222720</td>\n",
              "      <td>27716</td>\n",
              "      <td>3246298</td>\n",
              "      <td>1734810</td>\n",
              "      <td>11605.697561</td>\n",
              "      <td>93036735</td>\n",
              "      <td>True</td>\n",
              "      <td>False</td>\n",
              "      <td>English</td>\n",
              "      <td>1.0</td>\n",
              "    </tr>\n",
              "    <tr>\n",
              "      <th>1</th>\n",
              "      <td>summit1g</td>\n",
              "      <td>6091677300</td>\n",
              "      <td>211845</td>\n",
              "      <td>3530.75</td>\n",
              "      <td>147.114583</td>\n",
              "      <td>310998</td>\n",
              "      <td>25610</td>\n",
              "      <td>5310163</td>\n",
              "      <td>1370184</td>\n",
              "      <td>9313.719748</td>\n",
              "      <td>89705964</td>\n",
              "      <td>True</td>\n",
              "      <td>False</td>\n",
              "      <td>English</td>\n",
              "      <td>1.0</td>\n",
              "    </tr>\n",
              "    <tr>\n",
              "      <th>2</th>\n",
              "      <td>Gaules</td>\n",
              "      <td>5644590915</td>\n",
              "      <td>515280</td>\n",
              "      <td>8588.00</td>\n",
              "      <td>357.833333</td>\n",
              "      <td>387315</td>\n",
              "      <td>10976</td>\n",
              "      <td>1767635</td>\n",
              "      <td>1023779</td>\n",
              "      <td>2861.049837</td>\n",
              "      <td>102611607</td>\n",
              "      <td>True</td>\n",
              "      <td>True</td>\n",
              "      <td>Portuguese</td>\n",
              "      <td>1.0</td>\n",
              "    </tr>\n",
              "    <tr>\n",
              "      <th>3</th>\n",
              "      <td>ESL_CSGO</td>\n",
              "      <td>3970318140</td>\n",
              "      <td>517740</td>\n",
              "      <td>8629.00</td>\n",
              "      <td>359.541667</td>\n",
              "      <td>300575</td>\n",
              "      <td>7714</td>\n",
              "      <td>3944850</td>\n",
              "      <td>703986</td>\n",
              "      <td>1958.009503</td>\n",
              "      <td>106546942</td>\n",
              "      <td>True</td>\n",
              "      <td>False</td>\n",
              "      <td>English</td>\n",
              "      <td>1.0</td>\n",
              "    </tr>\n",
              "    <tr>\n",
              "      <th>4</th>\n",
              "      <td>Tfue</td>\n",
              "      <td>3671000070</td>\n",
              "      <td>123660</td>\n",
              "      <td>2061.00</td>\n",
              "      <td>85.875000</td>\n",
              "      <td>285644</td>\n",
              "      <td>29602</td>\n",
              "      <td>8938903</td>\n",
              "      <td>2068424</td>\n",
              "      <td>24086.451237</td>\n",
              "      <td>78998587</td>\n",
              "      <td>True</td>\n",
              "      <td>False</td>\n",
              "      <td>English</td>\n",
              "      <td>1.0</td>\n",
              "    </tr>\n",
              "  </tbody>\n",
              "</table>\n",
              "</div>"
            ],
            "text/plain": [
              "    Channel  Watch_time_min  Stream_time_min  ...  Mature    Language  Streams_a_lot\n",
              "0     xQcOW      6196161750           215250  ...   False     English            1.0\n",
              "1  summit1g      6091677300           211845  ...   False     English            1.0\n",
              "2    Gaules      5644590915           515280  ...    True  Portuguese            1.0\n",
              "3  ESL_CSGO      3970318140           517740  ...   False     English            1.0\n",
              "4      Tfue      3671000070           123660  ...   False     English            1.0\n",
              "\n",
              "[5 rows x 15 columns]"
            ]
          },
          "metadata": {
            "tags": []
          },
          "execution_count": 21
        }
      ]
    },
    {
      "cell_type": "code",
      "metadata": {
        "colab": {
          "base_uri": "https://localhost:8080/",
          "height": 419
        },
        "id": "9ylI1uGZUJ_W",
        "outputId": "e18bf104-9bad-4edb-e966-e67c2c752c87"
      },
      "source": [
        "streams_a_lot = streams_a_lot_[['Followers_gained']]\r\n",
        "streams_not_a_lot = streams_not_a_lot_[['Followers_gained']]\r\n",
        "\r\n",
        "streams_not_a_lot"
      ],
      "execution_count": null,
      "outputs": [
        {
          "output_type": "execute_result",
          "data": {
            "text/html": [
              "<div>\n",
              "<style scoped>\n",
              "    .dataframe tbody tr th:only-of-type {\n",
              "        vertical-align: middle;\n",
              "    }\n",
              "\n",
              "    .dataframe tbody tr th {\n",
              "        vertical-align: top;\n",
              "    }\n",
              "\n",
              "    .dataframe thead th {\n",
              "        text-align: right;\n",
              "    }\n",
              "</style>\n",
              "<table border=\"1\" class=\"dataframe\">\n",
              "  <thead>\n",
              "    <tr style=\"text-align: right;\">\n",
              "      <th></th>\n",
              "      <th>Followers_gained</th>\n",
              "    </tr>\n",
              "  </thead>\n",
              "  <tbody>\n",
              "    <tr>\n",
              "      <th>13</th>\n",
              "      <td>3820532</td>\n",
              "    </tr>\n",
              "    <tr>\n",
              "      <th>14</th>\n",
              "      <td>3966525</td>\n",
              "    </tr>\n",
              "    <tr>\n",
              "      <th>15</th>\n",
              "      <td>1101093</td>\n",
              "    </tr>\n",
              "    <tr>\n",
              "      <th>21</th>\n",
              "      <td>255088</td>\n",
              "    </tr>\n",
              "    <tr>\n",
              "      <th>23</th>\n",
              "      <td>825004</td>\n",
              "    </tr>\n",
              "    <tr>\n",
              "      <th>...</th>\n",
              "      <td>...</td>\n",
              "    </tr>\n",
              "    <tr>\n",
              "      <th>985</th>\n",
              "      <td>46991</td>\n",
              "    </tr>\n",
              "    <tr>\n",
              "      <th>987</th>\n",
              "      <td>123363</td>\n",
              "    </tr>\n",
              "    <tr>\n",
              "      <th>988</th>\n",
              "      <td>732108</td>\n",
              "    </tr>\n",
              "    <tr>\n",
              "      <th>990</th>\n",
              "      <td>46367</td>\n",
              "    </tr>\n",
              "    <tr>\n",
              "      <th>995</th>\n",
              "      <td>562691</td>\n",
              "    </tr>\n",
              "  </tbody>\n",
              "</table>\n",
              "<p>276 rows × 1 columns</p>\n",
              "</div>"
            ],
            "text/plain": [
              "     Followers_gained\n",
              "13            3820532\n",
              "14            3966525\n",
              "15            1101093\n",
              "21             255088\n",
              "23             825004\n",
              "..                ...\n",
              "985             46991\n",
              "987            123363\n",
              "988            732108\n",
              "990             46367\n",
              "995            562691\n",
              "\n",
              "[276 rows x 1 columns]"
            ]
          },
          "metadata": {
            "tags": []
          },
          "execution_count": 22
        }
      ]
    },
    {
      "cell_type": "code",
      "metadata": {
        "colab": {
          "base_uri": "https://localhost:8080/"
        },
        "id": "udM8L9MdVZpd",
        "outputId": "e92d284c-8818-49b0-be03-1526a289d1bc"
      },
      "source": [
        "# t_stat, p_value = st.ttest_ind(younger,older,equal_var=False)\r\n",
        "t_stat, p_value = st.ttest_ind(streams_a_lot, streams_not_a_lot, equal_var=False)\r\n",
        "\r\n",
        "print('T-stat: ', t_stat)\r\n",
        "print('P Value: ', p_value)"
      ],
      "execution_count": null,
      "outputs": [
        {
          "output_type": "stream",
          "text": [
            "T-stat:  [-5.39913867]\n",
            "P Value:  [1.27500748e-07]\n"
          ],
          "name": "stdout"
        }
      ]
    },
    {
      "cell_type": "markdown",
      "metadata": {
        "id": "yrvPohSZVtNf"
      },
      "source": [
        "Since the p_value is so close to 0 (1.28e-07) we reject the null hypothesis and conclude that there is a difference between followers gained for streamers who stream a lot and for streamers who don't stream as much."
      ]
    },
    {
      "cell_type": "markdown",
      "metadata": {
        "id": "wBZk7c5cHMaP"
      },
      "source": [
        "# Linear Correlation between 'Followers Gained' and 'Stream Time'\r\n",
        "\r\n",
        "Independent Variable = \"Stream Time\" \r\n",
        "\r\n",
        "Dependent Variable = \"Followers Gained\"\r\n",
        "\r\n",
        "$H_0:$ The slope of the relationship between \"Stream Time\" and \"Followers Gained\" is equal to 0. (There is no relationship between \"Stream Time\" and \"Followers Gained\"\r\n",
        "\r\n",
        "$H_a:$ The slope of the relationship between \"Stream Time\" and \"Followers Gained\" is not equal to 0. (There is a relationship between \"Stream Time\" and \"Followers Gained\"\r\n",
        "\r\n",
        "Significance level will be at 0.05%\r\n"
      ]
    },
    {
      "cell_type": "code",
      "metadata": {
        "id": "sSS8VbzXHTt1",
        "colab": {
          "base_uri": "https://localhost:8080/",
          "height": 224
        },
        "outputId": "3254a7d7-8242-49b3-ca7c-7a42ee22ad65"
      },
      "source": [
        "df.head()"
      ],
      "execution_count": null,
      "outputs": [
        {
          "output_type": "execute_result",
          "data": {
            "text/html": [
              "<div>\n",
              "<style scoped>\n",
              "    .dataframe tbody tr th:only-of-type {\n",
              "        vertical-align: middle;\n",
              "    }\n",
              "\n",
              "    .dataframe tbody tr th {\n",
              "        vertical-align: top;\n",
              "    }\n",
              "\n",
              "    .dataframe thead th {\n",
              "        text-align: right;\n",
              "    }\n",
              "</style>\n",
              "<table border=\"1\" class=\"dataframe\">\n",
              "  <thead>\n",
              "    <tr style=\"text-align: right;\">\n",
              "      <th></th>\n",
              "      <th>Channel</th>\n",
              "      <th>Watch_time_min</th>\n",
              "      <th>Stream_time_min</th>\n",
              "      <th>Stream_time_hr</th>\n",
              "      <th>Stream_time_days</th>\n",
              "      <th>Peak_viewers</th>\n",
              "      <th>Average_viewers</th>\n",
              "      <th>Followers</th>\n",
              "      <th>Followers_gained</th>\n",
              "      <th>Followers_gained_per_stream_time_days</th>\n",
              "      <th>Views_gained</th>\n",
              "      <th>Partnered</th>\n",
              "      <th>Mature</th>\n",
              "      <th>Language</th>\n",
              "      <th>Streams_a_lot</th>\n",
              "    </tr>\n",
              "  </thead>\n",
              "  <tbody>\n",
              "    <tr>\n",
              "      <th>0</th>\n",
              "      <td>xQcOW</td>\n",
              "      <td>6196161750</td>\n",
              "      <td>215250</td>\n",
              "      <td>3587.50</td>\n",
              "      <td>149.479167</td>\n",
              "      <td>222720</td>\n",
              "      <td>27716</td>\n",
              "      <td>3246298</td>\n",
              "      <td>1734810</td>\n",
              "      <td>11605.697561</td>\n",
              "      <td>93036735</td>\n",
              "      <td>True</td>\n",
              "      <td>False</td>\n",
              "      <td>English</td>\n",
              "      <td>1.0</td>\n",
              "    </tr>\n",
              "    <tr>\n",
              "      <th>1</th>\n",
              "      <td>summit1g</td>\n",
              "      <td>6091677300</td>\n",
              "      <td>211845</td>\n",
              "      <td>3530.75</td>\n",
              "      <td>147.114583</td>\n",
              "      <td>310998</td>\n",
              "      <td>25610</td>\n",
              "      <td>5310163</td>\n",
              "      <td>1370184</td>\n",
              "      <td>9313.719748</td>\n",
              "      <td>89705964</td>\n",
              "      <td>True</td>\n",
              "      <td>False</td>\n",
              "      <td>English</td>\n",
              "      <td>1.0</td>\n",
              "    </tr>\n",
              "    <tr>\n",
              "      <th>2</th>\n",
              "      <td>Gaules</td>\n",
              "      <td>5644590915</td>\n",
              "      <td>515280</td>\n",
              "      <td>8588.00</td>\n",
              "      <td>357.833333</td>\n",
              "      <td>387315</td>\n",
              "      <td>10976</td>\n",
              "      <td>1767635</td>\n",
              "      <td>1023779</td>\n",
              "      <td>2861.049837</td>\n",
              "      <td>102611607</td>\n",
              "      <td>True</td>\n",
              "      <td>True</td>\n",
              "      <td>Portuguese</td>\n",
              "      <td>1.0</td>\n",
              "    </tr>\n",
              "    <tr>\n",
              "      <th>3</th>\n",
              "      <td>ESL_CSGO</td>\n",
              "      <td>3970318140</td>\n",
              "      <td>517740</td>\n",
              "      <td>8629.00</td>\n",
              "      <td>359.541667</td>\n",
              "      <td>300575</td>\n",
              "      <td>7714</td>\n",
              "      <td>3944850</td>\n",
              "      <td>703986</td>\n",
              "      <td>1958.009503</td>\n",
              "      <td>106546942</td>\n",
              "      <td>True</td>\n",
              "      <td>False</td>\n",
              "      <td>English</td>\n",
              "      <td>1.0</td>\n",
              "    </tr>\n",
              "    <tr>\n",
              "      <th>4</th>\n",
              "      <td>Tfue</td>\n",
              "      <td>3671000070</td>\n",
              "      <td>123660</td>\n",
              "      <td>2061.00</td>\n",
              "      <td>85.875000</td>\n",
              "      <td>285644</td>\n",
              "      <td>29602</td>\n",
              "      <td>8938903</td>\n",
              "      <td>2068424</td>\n",
              "      <td>24086.451237</td>\n",
              "      <td>78998587</td>\n",
              "      <td>True</td>\n",
              "      <td>False</td>\n",
              "      <td>English</td>\n",
              "      <td>1.0</td>\n",
              "    </tr>\n",
              "  </tbody>\n",
              "</table>\n",
              "</div>"
            ],
            "text/plain": [
              "    Channel  Watch_time_min  Stream_time_min  ...  Mature    Language  Streams_a_lot\n",
              "0     xQcOW      6196161750           215250  ...   False     English            1.0\n",
              "1  summit1g      6091677300           211845  ...   False     English            1.0\n",
              "2    Gaules      5644590915           515280  ...    True  Portuguese            1.0\n",
              "3  ESL_CSGO      3970318140           517740  ...   False     English            1.0\n",
              "4      Tfue      3671000070           123660  ...   False     English            1.0\n",
              "\n",
              "[5 rows x 15 columns]"
            ]
          },
          "metadata": {
            "tags": []
          },
          "execution_count": 24
        }
      ]
    },
    {
      "cell_type": "code",
      "metadata": {
        "colab": {
          "base_uri": "https://localhost:8080/",
          "height": 388
        },
        "id": "LZyEgjDl8MaC",
        "outputId": "daf66899-a024-49e4-a13e-93cd711236cb"
      },
      "source": [
        "import seaborn as sns\r\n",
        "\r\n",
        "sns.lmplot(x='Stream_time_hr', y='Followers_gained', data=df)\r\n",
        "sns.set_style(\"whitegrid\")\r\n",
        "\r\n",
        "plt.title('Stream time vs Followers Gained on Twitch')\r\n",
        "plt.xlabel('Stream Time (hours)')\r\n",
        "plt.ylabel('Followers Gained on Twitch (millions)')\r\n",
        "\r\n",
        "plt.show()"
      ],
      "execution_count": null,
      "outputs": [
        {
          "output_type": "display_data",
          "data": {
            "image/png": "[encoded data removed]",
            "text/plain": [
              "<Figure size 360x360 with 1 Axes>"
            ]
          },
          "metadata": {
            "tags": []
          }
        }
      ]
    },
    {
      "cell_type": "code",
      "metadata": {
        "colab": {
          "base_uri": "https://localhost:8080/"
        },
        "id": "zQbtnmPl9pNI",
        "outputId": "4c189628-b9c4-48e5-c2d1-2e8b0937601b"
      },
      "source": [
        "from scipy import stats\r\n",
        "\r\n",
        "r_st_fg, p_val_st_fg = stats.pearsonr(df['Stream_time_hr'], df['Followers_gained'])\r\n",
        "print('R Coefficient: ', r_st_fg)\r\n",
        "print('P-Value: ', p_val_st_fg)"
      ],
      "execution_count": null,
      "outputs": [
        {
          "output_type": "stream",
          "text": [
            "R Coefficient:  -0.15816478527011052\n",
            "P-Value:  4.981386544982613e-07\n"
          ],
          "name": "stdout"
        }
      ]
    },
    {
      "cell_type": "markdown",
      "metadata": {
        "id": "3SjaP9SJ_MmI"
      },
      "source": [
        "The P-Value is extremely low at 4.98e-07 allows us to reject the Null Hypothesis and conclude that there is a linear correlation between \"Stream Time\" and \"Followers Gained\"\r\n",
        "\r\n",
        "The linear correlation coefficent at -0.16 shows us that there is a weak negative correlation between \"Stream Time\" and \"Followers Gained"
      ]
    },
    {
      "cell_type": "code",
      "metadata": {
        "colab": {
          "base_uri": "https://localhost:8080/"
        },
        "id": "jTv1JRdQ_Kga",
        "outputId": "1939b924-9c43-4a73-a9ec-ed305238ede6"
      },
      "source": [
        "# model = ols('Time ~ Nitro', data=longbones).fit()\r\n",
        "\r\n",
        "from statsmodels.formula.api import ols\r\n",
        "\r\n",
        "# enter the model in the format y ~ x\r\n",
        "model_st_fg = ols('Followers_gained ~ Stream_time_hr', data=df).fit()\r\n",
        "model_st_fg.params"
      ],
      "execution_count": null,
      "outputs": [
        {
          "output_type": "stream",
          "text": [
            "/usr/local/lib/python3.7/dist-packages/statsmodels/tools/_testing.py:19: FutureWarning: pandas.util.testing is deprecated. Use the functions in the public API at pandas.testing instead.\n",
            "  import pandas.util.testing as tm\n"
          ],
          "name": "stderr"
        },
        {
          "output_type": "execute_result",
          "data": {
            "text/plain": [
              "Intercept         281408.321251\n",
              "Stream_time_hr       -37.782693\n",
              "dtype: float64"
            ]
          },
          "metadata": {
            "tags": []
          },
          "execution_count": 27
        }
      ]
    },
    {
      "cell_type": "code",
      "metadata": {
        "colab": {
          "base_uri": "https://localhost:8080/"
        },
        "id": "fXSwsddegUZo",
        "outputId": "6dc0dc0a-3418-4b95-d57b-118e16ec4a02"
      },
      "source": [
        "print(model_st_fg.summary())"
      ],
      "execution_count": null,
      "outputs": [
        {
          "output_type": "stream",
          "text": [
            "                            OLS Regression Results                            \n",
            "==============================================================================\n",
            "Dep. Variable:       Followers_gained   R-squared:                       0.025\n",
            "Model:                            OLS   Adj. R-squared:                  0.024\n",
            "Method:                 Least Squares   F-statistic:                     25.61\n",
            "Date:                Sun, 28 Feb 2021   Prob (F-statistic):           4.98e-07\n",
            "Time:                        00:45:46   Log-Likelihood:                -14142.\n",
            "No. Observations:                1000   AIC:                         2.829e+04\n",
            "Df Residuals:                     998   BIC:                         2.830e+04\n",
            "Df Model:                           1                                         \n",
            "Covariance Type:            nonrobust                                         \n",
            "==================================================================================\n",
            "                     coef    std err          t      P>|t|      [0.025      0.975]\n",
            "----------------------------------------------------------------------------------\n",
            "Intercept       2.814e+05   1.84e+04     15.314      0.000    2.45e+05    3.17e+05\n",
            "Stream_time_hr   -37.7827      7.466     -5.060      0.000     -52.435     -23.131\n",
            "==============================================================================\n",
            "Omnibus:                     1099.354   Durbin-Watson:                   1.275\n",
            "Prob(Omnibus):                  0.000   Jarque-Bera (JB):            80205.229\n",
            "Skew:                           5.345   Prob(JB):                         0.00\n",
            "Kurtosis:                      45.552   Cond. No.                     4.26e+03\n",
            "==============================================================================\n",
            "\n",
            "Warnings:\n",
            "[1] Standard Errors assume that the covariance matrix of the errors is correctly specified.\n",
            "[2] The condition number is large, 4.26e+03. This might indicate that there are\n",
            "strong multicollinearity or other numerical problems.\n"
          ],
          "name": "stdout"
        }
      ]
    },
    {
      "cell_type": "markdown",
      "metadata": {
        "id": "wY07xo6SDT_a"
      },
      "source": [
        "\r\n",
        "$\\hat{Y} = b_0 + b_1 X$\r\n",
        "\r\n",
        "\r\n",
        "**Simple Linear Regression Equation for Followers Gained based on Stream Time(hr)**\r\n",
        "$\\hat{Y} = 281408 - 37.78 X$\r\n",
        "\r\n"
      ]
    },
    {
      "cell_type": "markdown",
      "metadata": {
        "id": "q77a-NwBFJUG"
      },
      "source": [
        "Calculate the residual for the XQC"
      ]
    },
    {
      "cell_type": "code",
      "metadata": {
        "colab": {
          "base_uri": "https://localhost:8080/"
        },
        "id": "I1g0VlwPFQ4o",
        "outputId": "c93b944d-bc0e-4131-d496-59d9e0d434f7"
      },
      "source": [
        "intercept = model_st_fg.params[0]\r\n",
        "slope = model_st_fg.params[1]\r\n",
        "\r\n",
        "x = df['Stream_time_hr'][0]\r\n",
        "\r\n",
        "predicted = intercept + slope*x\r\n",
        "\r\n",
        "print('Intercept: ', intercept)\r\n",
        "print('Slope: ', slope)\r\n",
        "print('Predicted value: ', predicted)"
      ],
      "execution_count": null,
      "outputs": [
        {
          "output_type": "stream",
          "text": [
            "Intercept:  281408.3212509462\n",
            "Slope:  -37.782692526457026\n",
            "Predicted value:  145862.9118122816\n"
          ],
          "name": "stdout"
        }
      ]
    },
    {
      "cell_type": "code",
      "metadata": {
        "colab": {
          "base_uri": "https://localhost:8080/"
        },
        "id": "kQ6A1ktgF1gD",
        "outputId": "f496a764-2362-4664-80e3-a8face041a9c"
      },
      "source": [
        "observed = df['Followers_gained'][0]\r\n",
        "\r\n",
        "residual =  observed - predicted\r\n",
        "\r\n",
        "residual"
      ],
      "execution_count": null,
      "outputs": [
        {
          "output_type": "execute_result",
          "data": {
            "text/plain": [
              "1588947.0881877183"
            ]
          },
          "metadata": {
            "tags": []
          },
          "execution_count": 30
        }
      ]
    },
    {
      "cell_type": "markdown",
      "metadata": {
        "id": "ZyCHZcdOJnCp"
      },
      "source": [
        "# Outlier Removal - Streamtime"
      ]
    },
    {
      "cell_type": "code",
      "metadata": {
        "colab": {
          "base_uri": "https://localhost:8080/",
          "height": 317
        },
        "id": "fC3iYF07XHVs",
        "outputId": "04e92f0d-8b8c-4e56-95b3-0b05b4ecb297"
      },
      "source": [
        "df.describe()"
      ],
      "execution_count": null,
      "outputs": [
        {
          "output_type": "execute_result",
          "data": {
            "text/html": [
              "<div>\n",
              "<style scoped>\n",
              "    .dataframe tbody tr th:only-of-type {\n",
              "        vertical-align: middle;\n",
              "    }\n",
              "\n",
              "    .dataframe tbody tr th {\n",
              "        vertical-align: top;\n",
              "    }\n",
              "\n",
              "    .dataframe thead th {\n",
              "        text-align: right;\n",
              "    }\n",
              "</style>\n",
              "<table border=\"1\" class=\"dataframe\">\n",
              "  <thead>\n",
              "    <tr style=\"text-align: right;\">\n",
              "      <th></th>\n",
              "      <th>Watch_time_min</th>\n",
              "      <th>Stream_time_min</th>\n",
              "      <th>Stream_time_hr</th>\n",
              "      <th>Stream_time_days</th>\n",
              "      <th>Peak_viewers</th>\n",
              "      <th>Average_viewers</th>\n",
              "      <th>Followers</th>\n",
              "      <th>Followers_gained</th>\n",
              "      <th>Followers_gained_per_stream_time_days</th>\n",
              "      <th>Views_gained</th>\n",
              "      <th>Streams_a_lot</th>\n",
              "    </tr>\n",
              "  </thead>\n",
              "  <tbody>\n",
              "    <tr>\n",
              "      <th>count</th>\n",
              "      <td>1.000000e+03</td>\n",
              "      <td>1000.000000</td>\n",
              "      <td>1000.000000</td>\n",
              "      <td>1000.000000</td>\n",
              "      <td>1000.000000</td>\n",
              "      <td>1000.000000</td>\n",
              "      <td>1.000000e+03</td>\n",
              "      <td>1.000000e+03</td>\n",
              "      <td>1000.000000</td>\n",
              "      <td>1.000000e+03</td>\n",
              "      <td>1000.00000</td>\n",
              "    </tr>\n",
              "    <tr>\n",
              "      <th>mean</th>\n",
              "      <td>4.184279e+08</td>\n",
              "      <td>120515.160000</td>\n",
              "      <td>2008.586000</td>\n",
              "      <td>83.691083</td>\n",
              "      <td>37065.051000</td>\n",
              "      <td>4781.040000</td>\n",
              "      <td>5.700541e+05</td>\n",
              "      <td>2.055185e+05</td>\n",
              "      <td>5144.693309</td>\n",
              "      <td>1.166817e+07</td>\n",
              "      <td>0.72400</td>\n",
              "    </tr>\n",
              "    <tr>\n",
              "      <th>std</th>\n",
              "      <td>5.496355e+08</td>\n",
              "      <td>85376.201364</td>\n",
              "      <td>1422.936689</td>\n",
              "      <td>59.289029</td>\n",
              "      <td>60314.307686</td>\n",
              "      <td>8453.684965</td>\n",
              "      <td>8.044134e+05</td>\n",
              "      <td>3.399137e+05</td>\n",
              "      <td>14385.673894</td>\n",
              "      <td>2.490572e+07</td>\n",
              "      <td>0.44724</td>\n",
              "    </tr>\n",
              "    <tr>\n",
              "      <th>min</th>\n",
              "      <td>1.221928e+08</td>\n",
              "      <td>3465.000000</td>\n",
              "      <td>57.750000</td>\n",
              "      <td>2.406250</td>\n",
              "      <td>496.000000</td>\n",
              "      <td>235.000000</td>\n",
              "      <td>3.660000e+03</td>\n",
              "      <td>-1.577200e+04</td>\n",
              "      <td>-120.521531</td>\n",
              "      <td>1.757880e+05</td>\n",
              "      <td>0.00000</td>\n",
              "    </tr>\n",
              "    <tr>\n",
              "      <th>25%</th>\n",
              "      <td>1.631899e+08</td>\n",
              "      <td>73758.750000</td>\n",
              "      <td>1229.312500</td>\n",
              "      <td>51.221354</td>\n",
              "      <td>9113.750000</td>\n",
              "      <td>1457.750000</td>\n",
              "      <td>1.705462e+05</td>\n",
              "      <td>4.375825e+04</td>\n",
              "      <td>493.056012</td>\n",
              "      <td>3.880602e+06</td>\n",
              "      <td>0.00000</td>\n",
              "    </tr>\n",
              "    <tr>\n",
              "      <th>50%</th>\n",
              "      <td>2.349908e+08</td>\n",
              "      <td>108240.000000</td>\n",
              "      <td>1804.000000</td>\n",
              "      <td>75.166667</td>\n",
              "      <td>16676.000000</td>\n",
              "      <td>2425.000000</td>\n",
              "      <td>3.180630e+05</td>\n",
              "      <td>9.835200e+04</td>\n",
              "      <td>1373.833531</td>\n",
              "      <td>6.456324e+06</td>\n",
              "      <td>1.00000</td>\n",
              "    </tr>\n",
              "    <tr>\n",
              "      <th>75%</th>\n",
              "      <td>4.337399e+08</td>\n",
              "      <td>141843.750000</td>\n",
              "      <td>2364.062500</td>\n",
              "      <td>98.502604</td>\n",
              "      <td>37569.750000</td>\n",
              "      <td>4786.250000</td>\n",
              "      <td>6.243322e+05</td>\n",
              "      <td>2.361308e+05</td>\n",
              "      <td>3999.377922</td>\n",
              "      <td>1.219676e+07</td>\n",
              "      <td>1.00000</td>\n",
              "    </tr>\n",
              "    <tr>\n",
              "      <th>max</th>\n",
              "      <td>6.196162e+09</td>\n",
              "      <td>521445.000000</td>\n",
              "      <td>8690.750000</td>\n",
              "      <td>362.114583</td>\n",
              "      <td>639375.000000</td>\n",
              "      <td>147643.000000</td>\n",
              "      <td>8.938903e+06</td>\n",
              "      <td>3.966525e+06</td>\n",
              "      <td>282551.359498</td>\n",
              "      <td>6.701375e+08</td>\n",
              "      <td>1.00000</td>\n",
              "    </tr>\n",
              "  </tbody>\n",
              "</table>\n",
              "</div>"
            ],
            "text/plain": [
              "       Watch_time_min  Stream_time_min  ...  Views_gained  Streams_a_lot\n",
              "count    1.000000e+03      1000.000000  ...  1.000000e+03     1000.00000\n",
              "mean     4.184279e+08    120515.160000  ...  1.166817e+07        0.72400\n",
              "std      5.496355e+08     85376.201364  ...  2.490572e+07        0.44724\n",
              "min      1.221928e+08      3465.000000  ...  1.757880e+05        0.00000\n",
              "25%      1.631899e+08     73758.750000  ...  3.880602e+06        0.00000\n",
              "50%      2.349908e+08    108240.000000  ...  6.456324e+06        1.00000\n",
              "75%      4.337399e+08    141843.750000  ...  1.219676e+07        1.00000\n",
              "max      6.196162e+09    521445.000000  ...  6.701375e+08        1.00000\n",
              "\n",
              "[8 rows x 11 columns]"
            ]
          },
          "metadata": {
            "tags": []
          },
          "execution_count": 31
        }
      ]
    },
    {
      "cell_type": "code",
      "metadata": {
        "id": "-8lJFomqn6WF"
      },
      "source": [
        "Q1_IQR_ST = 1229.312500\t\r\n",
        "Q3_IQR_ST = 2364.062500\r\n",
        "IQR_Streamtime = Q3_IQR_ST - Q1_IQR_ST\r\n",
        "\r\n",
        "Minimum_Outlier_Streamtime = Q1_IQR_ST - (1.5*IQR_Streamtime)\r\n",
        "Maximum_Outlier_Streamtime = Q3_IQR_ST + (1.5*IQR_Streamtime)"
      ],
      "execution_count": null,
      "outputs": []
    },
    {
      "cell_type": "code",
      "metadata": {
        "colab": {
          "base_uri": "https://localhost:8080/"
        },
        "id": "WpgCQ7s0jy3v",
        "outputId": "5065c56d-1a8e-41f1-a511-2b417784773f"
      },
      "source": [
        "print('Minimum Outlier: ', Minimum_Outlier_Streamtime)\r\n",
        "print('Maximum Outlier: ', Maximum_Outlier_Streamtime)"
      ],
      "execution_count": null,
      "outputs": [
        {
          "output_type": "stream",
          "text": [
            "Minimum Outlier:  -472.8125\n",
            "Maximum Outlier:  4066.1875\n"
          ],
          "name": "stdout"
        }
      ]
    },
    {
      "cell_type": "code",
      "metadata": {
        "id": "f35CMYTgs3WZ"
      },
      "source": [
        "Not_Streamtime_Outlier_Condition = (df['Stream_time_hr'] >= Minimum_Outlier_Streamtime) & (df['Stream_time_hr'] <= Maximum_Outlier_Streamtime)"
      ],
      "execution_count": null,
      "outputs": []
    },
    {
      "cell_type": "code",
      "metadata": {
        "id": "ri4AeGvbtxCv"
      },
      "source": [
        "df_exclude_streamtime_outlier = df[Not_Streamtime_Outlier_Condition]"
      ],
      "execution_count": null,
      "outputs": []
    },
    {
      "cell_type": "code",
      "metadata": {
        "colab": {
          "base_uri": "https://localhost:8080/",
          "height": 224
        },
        "id": "HhghhsnhwTNq",
        "outputId": "c1ccc86c-c919-4c79-d55c-4525b68db91e"
      },
      "source": [
        "df_exclude_streamtime_outlier.head()"
      ],
      "execution_count": null,
      "outputs": [
        {
          "output_type": "execute_result",
          "data": {
            "text/html": [
              "<div>\n",
              "<style scoped>\n",
              "    .dataframe tbody tr th:only-of-type {\n",
              "        vertical-align: middle;\n",
              "    }\n",
              "\n",
              "    .dataframe tbody tr th {\n",
              "        vertical-align: top;\n",
              "    }\n",
              "\n",
              "    .dataframe thead th {\n",
              "        text-align: right;\n",
              "    }\n",
              "</style>\n",
              "<table border=\"1\" class=\"dataframe\">\n",
              "  <thead>\n",
              "    <tr style=\"text-align: right;\">\n",
              "      <th></th>\n",
              "      <th>Channel</th>\n",
              "      <th>Watch_time_min</th>\n",
              "      <th>Stream_time_min</th>\n",
              "      <th>Stream_time_hr</th>\n",
              "      <th>Stream_time_days</th>\n",
              "      <th>Peak_viewers</th>\n",
              "      <th>Average_viewers</th>\n",
              "      <th>Followers</th>\n",
              "      <th>Followers_gained</th>\n",
              "      <th>Followers_gained_per_stream_time_days</th>\n",
              "      <th>Views_gained</th>\n",
              "      <th>Partnered</th>\n",
              "      <th>Mature</th>\n",
              "      <th>Language</th>\n",
              "      <th>Streams_a_lot</th>\n",
              "    </tr>\n",
              "  </thead>\n",
              "  <tbody>\n",
              "    <tr>\n",
              "      <th>0</th>\n",
              "      <td>xQcOW</td>\n",
              "      <td>6196161750</td>\n",
              "      <td>215250</td>\n",
              "      <td>3587.50</td>\n",
              "      <td>149.479167</td>\n",
              "      <td>222720</td>\n",
              "      <td>27716</td>\n",
              "      <td>3246298</td>\n",
              "      <td>1734810</td>\n",
              "      <td>11605.697561</td>\n",
              "      <td>93036735</td>\n",
              "      <td>True</td>\n",
              "      <td>False</td>\n",
              "      <td>English</td>\n",
              "      <td>1.0</td>\n",
              "    </tr>\n",
              "    <tr>\n",
              "      <th>1</th>\n",
              "      <td>summit1g</td>\n",
              "      <td>6091677300</td>\n",
              "      <td>211845</td>\n",
              "      <td>3530.75</td>\n",
              "      <td>147.114583</td>\n",
              "      <td>310998</td>\n",
              "      <td>25610</td>\n",
              "      <td>5310163</td>\n",
              "      <td>1370184</td>\n",
              "      <td>9313.719748</td>\n",
              "      <td>89705964</td>\n",
              "      <td>True</td>\n",
              "      <td>False</td>\n",
              "      <td>English</td>\n",
              "      <td>1.0</td>\n",
              "    </tr>\n",
              "    <tr>\n",
              "      <th>4</th>\n",
              "      <td>Tfue</td>\n",
              "      <td>3671000070</td>\n",
              "      <td>123660</td>\n",
              "      <td>2061.00</td>\n",
              "      <td>85.875000</td>\n",
              "      <td>285644</td>\n",
              "      <td>29602</td>\n",
              "      <td>8938903</td>\n",
              "      <td>2068424</td>\n",
              "      <td>24086.451237</td>\n",
              "      <td>78998587</td>\n",
              "      <td>True</td>\n",
              "      <td>False</td>\n",
              "      <td>English</td>\n",
              "      <td>1.0</td>\n",
              "    </tr>\n",
              "    <tr>\n",
              "      <th>5</th>\n",
              "      <td>Asmongold</td>\n",
              "      <td>3668799075</td>\n",
              "      <td>82260</td>\n",
              "      <td>1371.00</td>\n",
              "      <td>57.125000</td>\n",
              "      <td>263720</td>\n",
              "      <td>42414</td>\n",
              "      <td>1563438</td>\n",
              "      <td>554201</td>\n",
              "      <td>9701.549234</td>\n",
              "      <td>61715781</td>\n",
              "      <td>True</td>\n",
              "      <td>False</td>\n",
              "      <td>English</td>\n",
              "      <td>1.0</td>\n",
              "    </tr>\n",
              "    <tr>\n",
              "      <th>6</th>\n",
              "      <td>NICKMERCS</td>\n",
              "      <td>3360675195</td>\n",
              "      <td>136275</td>\n",
              "      <td>2271.25</td>\n",
              "      <td>94.635417</td>\n",
              "      <td>115633</td>\n",
              "      <td>24181</td>\n",
              "      <td>4074287</td>\n",
              "      <td>1089824</td>\n",
              "      <td>11516.026857</td>\n",
              "      <td>46084211</td>\n",
              "      <td>True</td>\n",
              "      <td>False</td>\n",
              "      <td>English</td>\n",
              "      <td>1.0</td>\n",
              "    </tr>\n",
              "  </tbody>\n",
              "</table>\n",
              "</div>"
            ],
            "text/plain": [
              "     Channel  Watch_time_min  Stream_time_min  ...  Mature  Language  Streams_a_lot\n",
              "0      xQcOW      6196161750           215250  ...   False   English            1.0\n",
              "1   summit1g      6091677300           211845  ...   False   English            1.0\n",
              "4       Tfue      3671000070           123660  ...   False   English            1.0\n",
              "5  Asmongold      3668799075            82260  ...   False   English            1.0\n",
              "6  NICKMERCS      3360675195           136275  ...   False   English            1.0\n",
              "\n",
              "[5 rows x 15 columns]"
            ]
          },
          "metadata": {
            "tags": []
          },
          "execution_count": 36
        }
      ]
    },
    {
      "cell_type": "code",
      "metadata": {
        "colab": {
          "base_uri": "https://localhost:8080/",
          "height": 388
        },
        "id": "b96xzl7AmJqP",
        "outputId": "cc5f778b-22c5-4e2e-9d06-1e5e3e439f83"
      },
      "source": [
        "sns.lmplot(x='Stream_time_hr', y='Followers_gained', data = df_exclude_streamtime_outlier)\r\n",
        "\r\n",
        "plt.title('Stream time vs Followers Gained on Twitch')\r\n",
        "plt.xlabel('Stream Time (hours)')\r\n",
        "plt.ylabel('Followers Gained on Twitch')\r\n",
        "\r\n",
        "plt.show()\r\n"
      ],
      "execution_count": null,
      "outputs": [
        {
          "output_type": "display_data",
          "data": {
            "image/png": "[encoded data removed]",
            "text/plain": [
              "<Figure size 360x360 with 1 Axes>"
            ]
          },
          "metadata": {
            "tags": [],
            "needs_background": "light"
          }
        }
      ]
    },
    {
      "cell_type": "code",
      "metadata": {
        "colab": {
          "base_uri": "https://localhost:8080/",
          "height": 388
        },
        "id": "ILBNuRUsp7-t",
        "outputId": "0410fd99-fe38-4b57-b54d-7bc70349886f"
      },
      "source": [
        "sns.lmplot(x='Stream_time_hr', y='Followers_gained', data = df)\r\n",
        "\r\n",
        "plt.title('Stream time vs Followers Gained on Twitch')\r\n",
        "plt.xlabel('Stream Time (hours)')\r\n",
        "plt.ylabel('Followers Gained on Twitch')\r\n",
        "\r\n",
        "plt.show()\r\n"
      ],
      "execution_count": null,
      "outputs": [
        {
          "output_type": "display_data",
          "data": {
            "image/png": "[encoded data removed]",
            "text/plain": [
              "<Figure size 360x360 with 1 Axes>"
            ]
          },
          "metadata": {
            "tags": [],
            "needs_background": "light"
          }
        }
      ]
    },
    {
      "cell_type": "code",
      "metadata": {
        "colab": {
          "base_uri": "https://localhost:8080/"
        },
        "id": "uZHUO5ewn2ZW",
        "outputId": "9aecc045-d721-49db-d586-6be1f84bc384"
      },
      "source": [
        "model_st_fg_no_outl = ols('Followers_gained ~ Stream_time_hr', data=df_exclude_streamtime_outlier).fit()\r\n",
        "print(model_st_fg_no_outl.summary())"
      ],
      "execution_count": null,
      "outputs": [
        {
          "output_type": "stream",
          "text": [
            "                            OLS Regression Results                            \n",
            "==============================================================================\n",
            "Dep. Variable:       Followers_gained   R-squared:                       0.042\n",
            "Model:                            OLS   Adj. R-squared:                  0.041\n",
            "Method:                 Least Squares   F-statistic:                     41.45\n",
            "Date:                Sun, 28 Feb 2021   Prob (F-statistic):           1.92e-10\n",
            "Time:                        00:45:47   Log-Likelihood:                -13470.\n",
            "No. Observations:                 952   AIC:                         2.694e+04\n",
            "Df Residuals:                     950   BIC:                         2.695e+04\n",
            "Df Model:                           1                                         \n",
            "Covariance Type:            nonrobust                                         \n",
            "==================================================================================\n",
            "                     coef    std err          t      P>|t|      [0.025      0.975]\n",
            "----------------------------------------------------------------------------------\n",
            "Intercept       3.639e+05   2.63e+04     13.860      0.000    3.12e+05    4.15e+05\n",
            "Stream_time_hr   -87.5821     13.604     -6.438      0.000    -114.280     -60.885\n",
            "==============================================================================\n",
            "Omnibus:                     1042.281   Durbin-Watson:                   1.263\n",
            "Prob(Omnibus):                  0.000   Jarque-Bera (JB):            73330.741\n",
            "Skew:                           5.302   Prob(JB):                         0.00\n",
            "Kurtosis:                      44.668   Cond. No.                     4.62e+03\n",
            "==============================================================================\n",
            "\n",
            "Warnings:\n",
            "[1] Standard Errors assume that the covariance matrix of the errors is correctly specified.\n",
            "[2] The condition number is large, 4.62e+03. This might indicate that there are\n",
            "strong multicollinearity or other numerical problems.\n"
          ],
          "name": "stdout"
        }
      ]
    },
    {
      "cell_type": "code",
      "metadata": {
        "colab": {
          "base_uri": "https://localhost:8080/"
        },
        "id": "OAaxF3w3pT9u",
        "outputId": "af69fd9b-60a0-4bd2-9e98-7df0a6b845fe"
      },
      "source": [
        "print(model_st_fg.summary())"
      ],
      "execution_count": null,
      "outputs": [
        {
          "output_type": "stream",
          "text": [
            "                            OLS Regression Results                            \n",
            "==============================================================================\n",
            "Dep. Variable:       Followers_gained   R-squared:                       0.025\n",
            "Model:                            OLS   Adj. R-squared:                  0.024\n",
            "Method:                 Least Squares   F-statistic:                     25.61\n",
            "Date:                Sun, 28 Feb 2021   Prob (F-statistic):           4.98e-07\n",
            "Time:                        00:45:47   Log-Likelihood:                -14142.\n",
            "No. Observations:                1000   AIC:                         2.829e+04\n",
            "Df Residuals:                     998   BIC:                         2.830e+04\n",
            "Df Model:                           1                                         \n",
            "Covariance Type:            nonrobust                                         \n",
            "==================================================================================\n",
            "                     coef    std err          t      P>|t|      [0.025      0.975]\n",
            "----------------------------------------------------------------------------------\n",
            "Intercept       2.814e+05   1.84e+04     15.314      0.000    2.45e+05    3.17e+05\n",
            "Stream_time_hr   -37.7827      7.466     -5.060      0.000     -52.435     -23.131\n",
            "==============================================================================\n",
            "Omnibus:                     1099.354   Durbin-Watson:                   1.275\n",
            "Prob(Omnibus):                  0.000   Jarque-Bera (JB):            80205.229\n",
            "Skew:                           5.345   Prob(JB):                         0.00\n",
            "Kurtosis:                      45.552   Cond. No.                     4.26e+03\n",
            "==============================================================================\n",
            "\n",
            "Warnings:\n",
            "[1] Standard Errors assume that the covariance matrix of the errors is correctly specified.\n",
            "[2] The condition number is large, 4.26e+03. This might indicate that there are\n",
            "strong multicollinearity or other numerical problems.\n"
          ],
          "name": "stdout"
        }
      ]
    },
    {
      "cell_type": "code",
      "metadata": {
        "colab": {
          "base_uri": "https://localhost:8080/"
        },
        "id": "Dqg1c12CpDZJ",
        "outputId": "ec4b3bb7-dcb3-4819-fc50-fc2aeaef062d"
      },
      "source": [
        "r_st_fg2, p_val_st_fg2 = stats.pearsonr(df_exclude_streamtime_outlier['Stream_time_hr'], df_exclude_streamtime_outlier['Followers_gained'])\r\n",
        "print('R Coefficient: ', r_st_fg2)\r\n",
        "print('P-Value: ', p_val_st_fg2)"
      ],
      "execution_count": null,
      "outputs": [
        {
          "output_type": "stream",
          "text": [
            "R Coefficient:  -0.20446121675704776\n",
            "P-Value:  1.919529982808843e-10\n"
          ],
          "name": "stdout"
        }
      ]
    },
    {
      "cell_type": "code",
      "metadata": {
        "colab": {
          "base_uri": "https://localhost:8080/"
        },
        "id": "ag5_KI6RqENZ",
        "outputId": "5004cd3f-ba5d-42ad-ea20-7660782af3fd"
      },
      "source": [
        "r_st_fg, p_val_st_fg = stats.pearsonr(df['Stream_time_hr'], df['Followers_gained'])\r\n",
        "print('R Coefficient: ', r_st_fg)\r\n",
        "print('P-Value: ', p_val_st_fg)"
      ],
      "execution_count": null,
      "outputs": [
        {
          "output_type": "stream",
          "text": [
            "R Coefficient:  -0.15816478527011052\n",
            "P-Value:  4.981386544982613e-07\n"
          ],
          "name": "stdout"
        }
      ]
    },
    {
      "cell_type": "markdown",
      "metadata": {
        "id": "YjmJmSGQuYLq"
      },
      "source": [
        "# Outlier Removal - Streamtime + Followers Gained"
      ]
    },
    {
      "cell_type": "code",
      "metadata": {
        "colab": {
          "base_uri": "https://localhost:8080/",
          "height": 317
        },
        "id": "F5qyOhdHujzC",
        "outputId": "40919762-5c7f-4bcb-aff9-01e4820ec246"
      },
      "source": [
        "df.describe()"
      ],
      "execution_count": null,
      "outputs": [
        {
          "output_type": "execute_result",
          "data": {
            "text/html": [
              "<div>\n",
              "<style scoped>\n",
              "    .dataframe tbody tr th:only-of-type {\n",
              "        vertical-align: middle;\n",
              "    }\n",
              "\n",
              "    .dataframe tbody tr th {\n",
              "        vertical-align: top;\n",
              "    }\n",
              "\n",
              "    .dataframe thead th {\n",
              "        text-align: right;\n",
              "    }\n",
              "</style>\n",
              "<table border=\"1\" class=\"dataframe\">\n",
              "  <thead>\n",
              "    <tr style=\"text-align: right;\">\n",
              "      <th></th>\n",
              "      <th>Watch_time_min</th>\n",
              "      <th>Stream_time_min</th>\n",
              "      <th>Stream_time_hr</th>\n",
              "      <th>Stream_time_days</th>\n",
              "      <th>Peak_viewers</th>\n",
              "      <th>Average_viewers</th>\n",
              "      <th>Followers</th>\n",
              "      <th>Followers_gained</th>\n",
              "      <th>Followers_gained_per_stream_time_days</th>\n",
              "      <th>Views_gained</th>\n",
              "      <th>Streams_a_lot</th>\n",
              "    </tr>\n",
              "  </thead>\n",
              "  <tbody>\n",
              "    <tr>\n",
              "      <th>count</th>\n",
              "      <td>1.000000e+03</td>\n",
              "      <td>1000.000000</td>\n",
              "      <td>1000.000000</td>\n",
              "      <td>1000.000000</td>\n",
              "      <td>1000.000000</td>\n",
              "      <td>1000.000000</td>\n",
              "      <td>1.000000e+03</td>\n",
              "      <td>1.000000e+03</td>\n",
              "      <td>1000.000000</td>\n",
              "      <td>1.000000e+03</td>\n",
              "      <td>1000.00000</td>\n",
              "    </tr>\n",
              "    <tr>\n",
              "      <th>mean</th>\n",
              "      <td>4.184279e+08</td>\n",
              "      <td>120515.160000</td>\n",
              "      <td>2008.586000</td>\n",
              "      <td>83.691083</td>\n",
              "      <td>37065.051000</td>\n",
              "      <td>4781.040000</td>\n",
              "      <td>5.700541e+05</td>\n",
              "      <td>2.055185e+05</td>\n",
              "      <td>5144.693309</td>\n",
              "      <td>1.166817e+07</td>\n",
              "      <td>0.72400</td>\n",
              "    </tr>\n",
              "    <tr>\n",
              "      <th>std</th>\n",
              "      <td>5.496355e+08</td>\n",
              "      <td>85376.201364</td>\n",
              "      <td>1422.936689</td>\n",
              "      <td>59.289029</td>\n",
              "      <td>60314.307686</td>\n",
              "      <td>8453.684965</td>\n",
              "      <td>8.044134e+05</td>\n",
              "      <td>3.399137e+05</td>\n",
              "      <td>14385.673894</td>\n",
              "      <td>2.490572e+07</td>\n",
              "      <td>0.44724</td>\n",
              "    </tr>\n",
              "    <tr>\n",
              "      <th>min</th>\n",
              "      <td>1.221928e+08</td>\n",
              "      <td>3465.000000</td>\n",
              "      <td>57.750000</td>\n",
              "      <td>2.406250</td>\n",
              "      <td>496.000000</td>\n",
              "      <td>235.000000</td>\n",
              "      <td>3.660000e+03</td>\n",
              "      <td>-1.577200e+04</td>\n",
              "      <td>-120.521531</td>\n",
              "      <td>1.757880e+05</td>\n",
              "      <td>0.00000</td>\n",
              "    </tr>\n",
              "    <tr>\n",
              "      <th>25%</th>\n",
              "      <td>1.631899e+08</td>\n",
              "      <td>73758.750000</td>\n",
              "      <td>1229.312500</td>\n",
              "      <td>51.221354</td>\n",
              "      <td>9113.750000</td>\n",
              "      <td>1457.750000</td>\n",
              "      <td>1.705462e+05</td>\n",
              "      <td>4.375825e+04</td>\n",
              "      <td>493.056012</td>\n",
              "      <td>3.880602e+06</td>\n",
              "      <td>0.00000</td>\n",
              "    </tr>\n",
              "    <tr>\n",
              "      <th>50%</th>\n",
              "      <td>2.349908e+08</td>\n",
              "      <td>108240.000000</td>\n",
              "      <td>1804.000000</td>\n",
              "      <td>75.166667</td>\n",
              "      <td>16676.000000</td>\n",
              "      <td>2425.000000</td>\n",
              "      <td>3.180630e+05</td>\n",
              "      <td>9.835200e+04</td>\n",
              "      <td>1373.833531</td>\n",
              "      <td>6.456324e+06</td>\n",
              "      <td>1.00000</td>\n",
              "    </tr>\n",
              "    <tr>\n",
              "      <th>75%</th>\n",
              "      <td>4.337399e+08</td>\n",
              "      <td>141843.750000</td>\n",
              "      <td>2364.062500</td>\n",
              "      <td>98.502604</td>\n",
              "      <td>37569.750000</td>\n",
              "      <td>4786.250000</td>\n",
              "      <td>6.243322e+05</td>\n",
              "      <td>2.361308e+05</td>\n",
              "      <td>3999.377922</td>\n",
              "      <td>1.219676e+07</td>\n",
              "      <td>1.00000</td>\n",
              "    </tr>\n",
              "    <tr>\n",
              "      <th>max</th>\n",
              "      <td>6.196162e+09</td>\n",
              "      <td>521445.000000</td>\n",
              "      <td>8690.750000</td>\n",
              "      <td>362.114583</td>\n",
              "      <td>639375.000000</td>\n",
              "      <td>147643.000000</td>\n",
              "      <td>8.938903e+06</td>\n",
              "      <td>3.966525e+06</td>\n",
              "      <td>282551.359498</td>\n",
              "      <td>6.701375e+08</td>\n",
              "      <td>1.00000</td>\n",
              "    </tr>\n",
              "  </tbody>\n",
              "</table>\n",
              "</div>"
            ],
            "text/plain": [
              "       Watch_time_min  Stream_time_min  ...  Views_gained  Streams_a_lot\n",
              "count    1.000000e+03      1000.000000  ...  1.000000e+03     1000.00000\n",
              "mean     4.184279e+08    120515.160000  ...  1.166817e+07        0.72400\n",
              "std      5.496355e+08     85376.201364  ...  2.490572e+07        0.44724\n",
              "min      1.221928e+08      3465.000000  ...  1.757880e+05        0.00000\n",
              "25%      1.631899e+08     73758.750000  ...  3.880602e+06        0.00000\n",
              "50%      2.349908e+08    108240.000000  ...  6.456324e+06        1.00000\n",
              "75%      4.337399e+08    141843.750000  ...  1.219676e+07        1.00000\n",
              "max      6.196162e+09    521445.000000  ...  6.701375e+08        1.00000\n",
              "\n",
              "[8 rows x 11 columns]"
            ]
          },
          "metadata": {
            "tags": []
          },
          "execution_count": 43
        }
      ]
    },
    {
      "cell_type": "code",
      "metadata": {
        "id": "e04ALQJsuvwk"
      },
      "source": [
        "Q1_IQR_FG = 4.375825e+04\t\r\n",
        "Q3_IQR_FG = 2.361308e+05\r\n",
        "IQR_FG = Q3_IQR_FG - Q1_IQR_FG\r\n",
        "\r\n",
        "Minimum_Outlier_FG = Q1_IQR_FG - (1.5*IQR_FG)\r\n",
        "Maximum_Outlier_FG = Q3_IQR_FG + (1.5*IQR_FG)"
      ],
      "execution_count": null,
      "outputs": []
    },
    {
      "cell_type": "code",
      "metadata": {
        "colab": {
          "base_uri": "https://localhost:8080/"
        },
        "id": "Z9ca3v4WvMUX",
        "outputId": "589817d3-09a9-43a4-d26a-2c1b65af5d50"
      },
      "source": [
        "print('Minimum Outlier: ', Minimum_Outlier_FG)\r\n",
        "print('Maximum Outlier: ', Maximum_Outlier_FG)"
      ],
      "execution_count": null,
      "outputs": [
        {
          "output_type": "stream",
          "text": [
            "Minimum Outlier:  -244800.57499999995\n",
            "Maximum Outlier:  524689.625\n"
          ],
          "name": "stdout"
        }
      ]
    },
    {
      "cell_type": "code",
      "metadata": {
        "colab": {
          "base_uri": "https://localhost:8080/",
          "height": 258
        },
        "id": "BkBmOQUzv2yz",
        "outputId": "5c5caedf-555d-4c01-b973-1dab1803ed22"
      },
      "source": [
        "Not_FG_Outlier_Condition = (df['Followers_gained'] >= Minimum_Outlier_FG) & (df['Followers_gained'] <= Maximum_Outlier_FG)\r\n",
        "\r\n",
        "df_exclude_fg_outlier = df[Not_FG_Outlier_Condition]\r\n",
        "df_exclude_fg_outlier.head()"
      ],
      "execution_count": null,
      "outputs": [
        {
          "output_type": "execute_result",
          "data": {
            "text/html": [
              "<div>\n",
              "<style scoped>\n",
              "    .dataframe tbody tr th:only-of-type {\n",
              "        vertical-align: middle;\n",
              "    }\n",
              "\n",
              "    .dataframe tbody tr th {\n",
              "        vertical-align: top;\n",
              "    }\n",
              "\n",
              "    .dataframe thead th {\n",
              "        text-align: right;\n",
              "    }\n",
              "</style>\n",
              "<table border=\"1\" class=\"dataframe\">\n",
              "  <thead>\n",
              "    <tr style=\"text-align: right;\">\n",
              "      <th></th>\n",
              "      <th>Channel</th>\n",
              "      <th>Watch_time_min</th>\n",
              "      <th>Stream_time_min</th>\n",
              "      <th>Stream_time_hr</th>\n",
              "      <th>Stream_time_days</th>\n",
              "      <th>Peak_viewers</th>\n",
              "      <th>Average_viewers</th>\n",
              "      <th>Followers</th>\n",
              "      <th>Followers_gained</th>\n",
              "      <th>Followers_gained_per_stream_time_days</th>\n",
              "      <th>Views_gained</th>\n",
              "      <th>Partnered</th>\n",
              "      <th>Mature</th>\n",
              "      <th>Language</th>\n",
              "      <th>Streams_a_lot</th>\n",
              "    </tr>\n",
              "  </thead>\n",
              "  <tbody>\n",
              "    <tr>\n",
              "      <th>7</th>\n",
              "      <td>Fextralife</td>\n",
              "      <td>3301867485</td>\n",
              "      <td>147885</td>\n",
              "      <td>2464.75</td>\n",
              "      <td>102.697917</td>\n",
              "      <td>68795</td>\n",
              "      <td>18985</td>\n",
              "      <td>508816</td>\n",
              "      <td>425468</td>\n",
              "      <td>4142.907800</td>\n",
              "      <td>670137548</td>\n",
              "      <td>True</td>\n",
              "      <td>False</td>\n",
              "      <td>English</td>\n",
              "      <td>1.0</td>\n",
              "    </tr>\n",
              "    <tr>\n",
              "      <th>11</th>\n",
              "      <td>LIRIK</td>\n",
              "      <td>2832930285</td>\n",
              "      <td>128490</td>\n",
              "      <td>2141.50</td>\n",
              "      <td>89.229167</td>\n",
              "      <td>89170</td>\n",
              "      <td>21739</td>\n",
              "      <td>2666382</td>\n",
              "      <td>199077</td>\n",
              "      <td>2231.075414</td>\n",
              "      <td>50504526</td>\n",
              "      <td>True</td>\n",
              "      <td>False</td>\n",
              "      <td>English</td>\n",
              "      <td>1.0</td>\n",
              "    </tr>\n",
              "    <tr>\n",
              "      <th>12</th>\n",
              "      <td>Riot Games (riotgames)</td>\n",
              "      <td>2674646715</td>\n",
              "      <td>80820</td>\n",
              "      <td>1347.00</td>\n",
              "      <td>56.125000</td>\n",
              "      <td>639375</td>\n",
              "      <td>20960</td>\n",
              "      <td>4487489</td>\n",
              "      <td>497678</td>\n",
              "      <td>8867.314031</td>\n",
              "      <td>56855694</td>\n",
              "      <td>True</td>\n",
              "      <td>False</td>\n",
              "      <td>English</td>\n",
              "      <td>1.0</td>\n",
              "    </tr>\n",
              "    <tr>\n",
              "      <th>16</th>\n",
              "      <td>sodapoppin</td>\n",
              "      <td>2329440420</td>\n",
              "      <td>115305</td>\n",
              "      <td>1921.75</td>\n",
              "      <td>80.072917</td>\n",
              "      <td>107833</td>\n",
              "      <td>19659</td>\n",
              "      <td>2786162</td>\n",
              "      <td>236169</td>\n",
              "      <td>2949.424223</td>\n",
              "      <td>39334821</td>\n",
              "      <td>True</td>\n",
              "      <td>True</td>\n",
              "      <td>English</td>\n",
              "      <td>1.0</td>\n",
              "    </tr>\n",
              "    <tr>\n",
              "      <th>17</th>\n",
              "      <td>풍월량 (hanryang1125)</td>\n",
              "      <td>2186662470</td>\n",
              "      <td>181230</td>\n",
              "      <td>3020.50</td>\n",
              "      <td>125.854167</td>\n",
              "      <td>26999</td>\n",
              "      <td>12201</td>\n",
              "      <td>494445</td>\n",
              "      <td>92205</td>\n",
              "      <td>732.633670</td>\n",
              "      <td>34405975</td>\n",
              "      <td>True</td>\n",
              "      <td>False</td>\n",
              "      <td>Korean</td>\n",
              "      <td>1.0</td>\n",
              "    </tr>\n",
              "  </tbody>\n",
              "</table>\n",
              "</div>"
            ],
            "text/plain": [
              "                   Channel  Watch_time_min  ...  Language  Streams_a_lot\n",
              "7               Fextralife      3301867485  ...   English            1.0\n",
              "11                   LIRIK      2832930285  ...   English            1.0\n",
              "12  Riot Games (riotgames)      2674646715  ...   English            1.0\n",
              "16              sodapoppin      2329440420  ...   English            1.0\n",
              "17      풍월량 (hanryang1125)      2186662470  ...    Korean            1.0\n",
              "\n",
              "[5 rows x 15 columns]"
            ]
          },
          "metadata": {
            "tags": []
          },
          "execution_count": 46
        }
      ]
    },
    {
      "cell_type": "code",
      "metadata": {
        "colab": {
          "base_uri": "https://localhost:8080/",
          "height": 292
        },
        "id": "YTPSo4kJw-VX",
        "outputId": "ff24ec8d-1020-4eef-b901-366dcdf3bed2"
      },
      "source": [
        "df_exclude_fg_st_outlier = df_exclude_fg_outlier[Not_Streamtime_Outlier_Condition]\r\n",
        "df_exclude_fg_st_outlier.head()"
      ],
      "execution_count": null,
      "outputs": [
        {
          "output_type": "stream",
          "text": [
            "/usr/local/lib/python3.7/dist-packages/ipykernel_launcher.py:1: UserWarning: Boolean Series key will be reindexed to match DataFrame index.\n",
            "  \"\"\"Entry point for launching an IPython kernel.\n"
          ],
          "name": "stderr"
        },
        {
          "output_type": "execute_result",
          "data": {
            "text/html": [
              "<div>\n",
              "<style scoped>\n",
              "    .dataframe tbody tr th:only-of-type {\n",
              "        vertical-align: middle;\n",
              "    }\n",
              "\n",
              "    .dataframe tbody tr th {\n",
              "        vertical-align: top;\n",
              "    }\n",
              "\n",
              "    .dataframe thead th {\n",
              "        text-align: right;\n",
              "    }\n",
              "</style>\n",
              "<table border=\"1\" class=\"dataframe\">\n",
              "  <thead>\n",
              "    <tr style=\"text-align: right;\">\n",
              "      <th></th>\n",
              "      <th>Channel</th>\n",
              "      <th>Watch_time_min</th>\n",
              "      <th>Stream_time_min</th>\n",
              "      <th>Stream_time_hr</th>\n",
              "      <th>Stream_time_days</th>\n",
              "      <th>Peak_viewers</th>\n",
              "      <th>Average_viewers</th>\n",
              "      <th>Followers</th>\n",
              "      <th>Followers_gained</th>\n",
              "      <th>Followers_gained_per_stream_time_days</th>\n",
              "      <th>Views_gained</th>\n",
              "      <th>Partnered</th>\n",
              "      <th>Mature</th>\n",
              "      <th>Language</th>\n",
              "      <th>Streams_a_lot</th>\n",
              "    </tr>\n",
              "  </thead>\n",
              "  <tbody>\n",
              "    <tr>\n",
              "      <th>7</th>\n",
              "      <td>Fextralife</td>\n",
              "      <td>3301867485</td>\n",
              "      <td>147885</td>\n",
              "      <td>2464.75</td>\n",
              "      <td>102.697917</td>\n",
              "      <td>68795</td>\n",
              "      <td>18985</td>\n",
              "      <td>508816</td>\n",
              "      <td>425468</td>\n",
              "      <td>4142.907800</td>\n",
              "      <td>670137548</td>\n",
              "      <td>True</td>\n",
              "      <td>False</td>\n",
              "      <td>English</td>\n",
              "      <td>1.0</td>\n",
              "    </tr>\n",
              "    <tr>\n",
              "      <th>11</th>\n",
              "      <td>LIRIK</td>\n",
              "      <td>2832930285</td>\n",
              "      <td>128490</td>\n",
              "      <td>2141.50</td>\n",
              "      <td>89.229167</td>\n",
              "      <td>89170</td>\n",
              "      <td>21739</td>\n",
              "      <td>2666382</td>\n",
              "      <td>199077</td>\n",
              "      <td>2231.075414</td>\n",
              "      <td>50504526</td>\n",
              "      <td>True</td>\n",
              "      <td>False</td>\n",
              "      <td>English</td>\n",
              "      <td>1.0</td>\n",
              "    </tr>\n",
              "    <tr>\n",
              "      <th>12</th>\n",
              "      <td>Riot Games (riotgames)</td>\n",
              "      <td>2674646715</td>\n",
              "      <td>80820</td>\n",
              "      <td>1347.00</td>\n",
              "      <td>56.125000</td>\n",
              "      <td>639375</td>\n",
              "      <td>20960</td>\n",
              "      <td>4487489</td>\n",
              "      <td>497678</td>\n",
              "      <td>8867.314031</td>\n",
              "      <td>56855694</td>\n",
              "      <td>True</td>\n",
              "      <td>False</td>\n",
              "      <td>English</td>\n",
              "      <td>1.0</td>\n",
              "    </tr>\n",
              "    <tr>\n",
              "      <th>16</th>\n",
              "      <td>sodapoppin</td>\n",
              "      <td>2329440420</td>\n",
              "      <td>115305</td>\n",
              "      <td>1921.75</td>\n",
              "      <td>80.072917</td>\n",
              "      <td>107833</td>\n",
              "      <td>19659</td>\n",
              "      <td>2786162</td>\n",
              "      <td>236169</td>\n",
              "      <td>2949.424223</td>\n",
              "      <td>39334821</td>\n",
              "      <td>True</td>\n",
              "      <td>True</td>\n",
              "      <td>English</td>\n",
              "      <td>1.0</td>\n",
              "    </tr>\n",
              "    <tr>\n",
              "      <th>17</th>\n",
              "      <td>풍월량 (hanryang1125)</td>\n",
              "      <td>2186662470</td>\n",
              "      <td>181230</td>\n",
              "      <td>3020.50</td>\n",
              "      <td>125.854167</td>\n",
              "      <td>26999</td>\n",
              "      <td>12201</td>\n",
              "      <td>494445</td>\n",
              "      <td>92205</td>\n",
              "      <td>732.633670</td>\n",
              "      <td>34405975</td>\n",
              "      <td>True</td>\n",
              "      <td>False</td>\n",
              "      <td>Korean</td>\n",
              "      <td>1.0</td>\n",
              "    </tr>\n",
              "  </tbody>\n",
              "</table>\n",
              "</div>"
            ],
            "text/plain": [
              "                   Channel  Watch_time_min  ...  Language  Streams_a_lot\n",
              "7               Fextralife      3301867485  ...   English            1.0\n",
              "11                   LIRIK      2832930285  ...   English            1.0\n",
              "12  Riot Games (riotgames)      2674646715  ...   English            1.0\n",
              "16              sodapoppin      2329440420  ...   English            1.0\n",
              "17      풍월량 (hanryang1125)      2186662470  ...    Korean            1.0\n",
              "\n",
              "[5 rows x 15 columns]"
            ]
          },
          "metadata": {
            "tags": []
          },
          "execution_count": 47
        }
      ]
    },
    {
      "cell_type": "code",
      "metadata": {
        "colab": {
          "base_uri": "https://localhost:8080/",
          "height": 399
        },
        "id": "OPtK-k4axciO",
        "outputId": "37b6a90c-8cae-4275-c5fc-7cd284155426"
      },
      "source": [
        "sns.lmplot(x='Stream_time_hr', y='Followers_gained', data = df_exclude_fg_st_outlier)\r\n",
        "\r\n",
        "sns.set_style(\"whitegrid\")\r\n",
        "\r\n",
        "plt.title('Stream time vs Followers Gained on Twitch')\r\n",
        "plt.xlabel('Stream Time (hours)')\r\n",
        "plt.ylabel('Followers Gained on Twitch')\r\n",
        "\r\n",
        "plt.show()\r\n"
      ],
      "execution_count": null,
      "outputs": [
        {
          "output_type": "display_data",
          "data": {
            "image/png": "[encoded data removed]",
            "text/plain": [
              "<Figure size 360x360 with 1 Axes>"
            ]
          },
          "metadata": {
            "tags": []
          }
        }
      ]
    },
    {
      "cell_type": "code",
      "metadata": {
        "colab": {
          "base_uri": "https://localhost:8080/",
          "height": 399
        },
        "id": "lwQCjduZ0Y-O",
        "outputId": "61abc117-30a7-41bb-8d54-c9a61a919849"
      },
      "source": [
        "\r\n",
        "sns.lmplot(x='Stream_time_hr', y='Followers_gained', data = df_exclude_fg_st_outlier)\r\n",
        "\r\n",
        "sns.set_style(\"whitegrid\")\r\n",
        "\r\n",
        "plt.title('Stream time vs Followers Gained on Twitch')\r\n",
        "plt.xlabel('Stream Time (hours)')\r\n",
        "plt.ylabel('Followers Gained on Twitch')\r\n",
        "plt.ylim(0, 1000000)\r\n",
        "plt.xlim(0, 9000)\r\n",
        "\r\n",
        "plt.show()\r\n"
      ],
      "execution_count": null,
      "outputs": [
        {
          "output_type": "display_data",
          "data": {
            "image/png": "[encoded data removed]",
            "text/plain": [
              "<Figure size 360x360 with 1 Axes>"
            ]
          },
          "metadata": {
            "tags": []
          }
        }
      ]
    },
    {
      "cell_type": "code",
      "metadata": {
        "colab": {
          "base_uri": "https://localhost:8080/"
        },
        "id": "HFkpulrpyIT6",
        "outputId": "d7d4ae01-a7b9-447a-8c74-4ee943456270"
      },
      "source": [
        "model_st_fg_no_outl_2 = ols('Followers_gained ~ Stream_time_hr', data = df_exclude_fg_st_outlier).fit()\r\n",
        "print(model_st_fg_no_outl_2.summary())"
      ],
      "execution_count": null,
      "outputs": [
        {
          "output_type": "stream",
          "text": [
            "                            OLS Regression Results                            \n",
            "==============================================================================\n",
            "Dep. Variable:       Followers_gained   R-squared:                       0.067\n",
            "Model:                            OLS   Adj. R-squared:                  0.065\n",
            "Method:                 Least Squares   F-statistic:                     61.46\n",
            "Date:                Sun, 28 Feb 2021   Prob (F-statistic):           1.33e-14\n",
            "Time:                        00:45:48   Log-Likelihood:                -11264.\n",
            "No. Observations:                 864   AIC:                         2.253e+04\n",
            "Df Residuals:                     862   BIC:                         2.254e+04\n",
            "Df Model:                           1                                         \n",
            "Covariance Type:            nonrobust                                         \n",
            "==================================================================================\n",
            "                     coef    std err          t      P>|t|      [0.025      0.975]\n",
            "----------------------------------------------------------------------------------\n",
            "Intercept       1.954e+05   9403.079     20.781      0.000    1.77e+05    2.14e+05\n",
            "Stream_time_hr   -37.5462      4.789     -7.840      0.000     -46.946     -28.146\n",
            "==============================================================================\n",
            "Omnibus:                      176.486   Durbin-Watson:                   1.714\n",
            "Prob(Omnibus):                  0.000   Jarque-Bera (JB):              301.351\n",
            "Skew:                           1.279   Prob(JB):                     3.65e-66\n",
            "Kurtosis:                       4.352   Cond. No.                     4.88e+03\n",
            "==============================================================================\n",
            "\n",
            "Warnings:\n",
            "[1] Standard Errors assume that the covariance matrix of the errors is correctly specified.\n",
            "[2] The condition number is large, 4.88e+03. This might indicate that there are\n",
            "strong multicollinearity or other numerical problems.\n"
          ],
          "name": "stdout"
        }
      ]
    },
    {
      "cell_type": "code",
      "metadata": {
        "colab": {
          "base_uri": "https://localhost:8080/"
        },
        "id": "R3uLzHQMya2M",
        "outputId": "d520a1f1-c61e-4532-d5ce-61932156a92b"
      },
      "source": [
        "print(model_st_fg_no_outl.summary())"
      ],
      "execution_count": null,
      "outputs": [
        {
          "output_type": "stream",
          "text": [
            "                            OLS Regression Results                            \n",
            "==============================================================================\n",
            "Dep. Variable:       Followers_gained   R-squared:                       0.042\n",
            "Model:                            OLS   Adj. R-squared:                  0.041\n",
            "Method:                 Least Squares   F-statistic:                     41.45\n",
            "Date:                Sun, 28 Feb 2021   Prob (F-statistic):           1.92e-10\n",
            "Time:                        00:45:48   Log-Likelihood:                -13470.\n",
            "No. Observations:                 952   AIC:                         2.694e+04\n",
            "Df Residuals:                     950   BIC:                         2.695e+04\n",
            "Df Model:                           1                                         \n",
            "Covariance Type:            nonrobust                                         \n",
            "==================================================================================\n",
            "                     coef    std err          t      P>|t|      [0.025      0.975]\n",
            "----------------------------------------------------------------------------------\n",
            "Intercept       3.639e+05   2.63e+04     13.860      0.000    3.12e+05    4.15e+05\n",
            "Stream_time_hr   -87.5821     13.604     -6.438      0.000    -114.280     -60.885\n",
            "==============================================================================\n",
            "Omnibus:                     1042.281   Durbin-Watson:                   1.263\n",
            "Prob(Omnibus):                  0.000   Jarque-Bera (JB):            73330.741\n",
            "Skew:                           5.302   Prob(JB):                         0.00\n",
            "Kurtosis:                      44.668   Cond. No.                     4.62e+03\n",
            "==============================================================================\n",
            "\n",
            "Warnings:\n",
            "[1] Standard Errors assume that the covariance matrix of the errors is correctly specified.\n",
            "[2] The condition number is large, 4.62e+03. This might indicate that there are\n",
            "strong multicollinearity or other numerical problems.\n"
          ],
          "name": "stdout"
        }
      ]
    },
    {
      "cell_type": "code",
      "metadata": {
        "colab": {
          "base_uri": "https://localhost:8080/"
        },
        "id": "HAZIFCsDydhR",
        "outputId": "4226a575-59b5-45a8-bc57-e2682f235a8e"
      },
      "source": [
        "print(model_st_fg.summary())"
      ],
      "execution_count": null,
      "outputs": [
        {
          "output_type": "stream",
          "text": [
            "                            OLS Regression Results                            \n",
            "==============================================================================\n",
            "Dep. Variable:       Followers_gained   R-squared:                       0.025\n",
            "Model:                            OLS   Adj. R-squared:                  0.024\n",
            "Method:                 Least Squares   F-statistic:                     25.61\n",
            "Date:                Sun, 28 Feb 2021   Prob (F-statistic):           4.98e-07\n",
            "Time:                        00:45:48   Log-Likelihood:                -14142.\n",
            "No. Observations:                1000   AIC:                         2.829e+04\n",
            "Df Residuals:                     998   BIC:                         2.830e+04\n",
            "Df Model:                           1                                         \n",
            "Covariance Type:            nonrobust                                         \n",
            "==================================================================================\n",
            "                     coef    std err          t      P>|t|      [0.025      0.975]\n",
            "----------------------------------------------------------------------------------\n",
            "Intercept       2.814e+05   1.84e+04     15.314      0.000    2.45e+05    3.17e+05\n",
            "Stream_time_hr   -37.7827      7.466     -5.060      0.000     -52.435     -23.131\n",
            "==============================================================================\n",
            "Omnibus:                     1099.354   Durbin-Watson:                   1.275\n",
            "Prob(Omnibus):                  0.000   Jarque-Bera (JB):            80205.229\n",
            "Skew:                           5.345   Prob(JB):                         0.00\n",
            "Kurtosis:                      45.552   Cond. No.                     4.26e+03\n",
            "==============================================================================\n",
            "\n",
            "Warnings:\n",
            "[1] Standard Errors assume that the covariance matrix of the errors is correctly specified.\n",
            "[2] The condition number is large, 4.26e+03. This might indicate that there are\n",
            "strong multicollinearity or other numerical problems.\n"
          ],
          "name": "stdout"
        }
      ]
    },
    {
      "cell_type": "code",
      "metadata": {
        "colab": {
          "base_uri": "https://localhost:8080/"
        },
        "id": "6h0M17Kkyfx0",
        "outputId": "13b93b8b-bc9d-45fa-980e-186b955bbb5d"
      },
      "source": [
        "r_st_fg3, p_val_st_fg3 = stats.pearsonr(df_exclude_fg_st_outlier['Stream_time_hr'], df_exclude_fg_st_outlier['Followers_gained'])\r\n",
        "print('R Coefficient3: ', r_st_fg3)\r\n",
        "print('P-Value3: ', p_val_st_fg3)\r\n",
        "print('R Coefficient2: ', r_st_fg2)\r\n",
        "print('P-Value2: ', p_val_st_fg2)\r\n",
        "print('R Coefficient: ', r_st_fg)\r\n",
        "print('P-Value: ', p_val_st_fg)"
      ],
      "execution_count": null,
      "outputs": [
        {
          "output_type": "stream",
          "text": [
            "R Coefficient3:  -0.2579774404321478\n",
            "P-Value3:  1.3318863852482777e-14\n",
            "R Coefficient2:  -0.20446121675704776\n",
            "P-Value2:  1.919529982808843e-10\n",
            "R Coefficient:  -0.15816478527011052\n",
            "P-Value:  4.981386544982613e-07\n"
          ],
          "name": "stdout"
        }
      ]
    },
    {
      "cell_type": "markdown",
      "metadata": {
        "id": "UbY0ULjhzmSy"
      },
      "source": [
        "# Logistic Regression"
      ]
    },
    {
      "cell_type": "code",
      "metadata": {
        "colab": {
          "base_uri": "https://localhost:8080/",
          "height": 224
        },
        "id": "DKEzJhq20N9-",
        "outputId": "9c24b866-0136-4862-c8e7-832399f57a6e"
      },
      "source": [
        "df.head()"
      ],
      "execution_count": null,
      "outputs": [
        {
          "output_type": "execute_result",
          "data": {
            "text/html": [
              "<div>\n",
              "<style scoped>\n",
              "    .dataframe tbody tr th:only-of-type {\n",
              "        vertical-align: middle;\n",
              "    }\n",
              "\n",
              "    .dataframe tbody tr th {\n",
              "        vertical-align: top;\n",
              "    }\n",
              "\n",
              "    .dataframe thead th {\n",
              "        text-align: right;\n",
              "    }\n",
              "</style>\n",
              "<table border=\"1\" class=\"dataframe\">\n",
              "  <thead>\n",
              "    <tr style=\"text-align: right;\">\n",
              "      <th></th>\n",
              "      <th>Channel</th>\n",
              "      <th>Watch_time_min</th>\n",
              "      <th>Stream_time_min</th>\n",
              "      <th>Stream_time_hr</th>\n",
              "      <th>Stream_time_days</th>\n",
              "      <th>Peak_viewers</th>\n",
              "      <th>Average_viewers</th>\n",
              "      <th>Followers</th>\n",
              "      <th>Followers_gained</th>\n",
              "      <th>Followers_gained_per_stream_time_days</th>\n",
              "      <th>Views_gained</th>\n",
              "      <th>Partnered</th>\n",
              "      <th>Mature</th>\n",
              "      <th>Language</th>\n",
              "      <th>Streams_a_lot</th>\n",
              "    </tr>\n",
              "  </thead>\n",
              "  <tbody>\n",
              "    <tr>\n",
              "      <th>0</th>\n",
              "      <td>xQcOW</td>\n",
              "      <td>6196161750</td>\n",
              "      <td>215250</td>\n",
              "      <td>3587.50</td>\n",
              "      <td>149.479167</td>\n",
              "      <td>222720</td>\n",
              "      <td>27716</td>\n",
              "      <td>3246298</td>\n",
              "      <td>1734810</td>\n",
              "      <td>11605.697561</td>\n",
              "      <td>93036735</td>\n",
              "      <td>True</td>\n",
              "      <td>False</td>\n",
              "      <td>English</td>\n",
              "      <td>1.0</td>\n",
              "    </tr>\n",
              "    <tr>\n",
              "      <th>1</th>\n",
              "      <td>summit1g</td>\n",
              "      <td>6091677300</td>\n",
              "      <td>211845</td>\n",
              "      <td>3530.75</td>\n",
              "      <td>147.114583</td>\n",
              "      <td>310998</td>\n",
              "      <td>25610</td>\n",
              "      <td>5310163</td>\n",
              "      <td>1370184</td>\n",
              "      <td>9313.719748</td>\n",
              "      <td>89705964</td>\n",
              "      <td>True</td>\n",
              "      <td>False</td>\n",
              "      <td>English</td>\n",
              "      <td>1.0</td>\n",
              "    </tr>\n",
              "    <tr>\n",
              "      <th>2</th>\n",
              "      <td>Gaules</td>\n",
              "      <td>5644590915</td>\n",
              "      <td>515280</td>\n",
              "      <td>8588.00</td>\n",
              "      <td>357.833333</td>\n",
              "      <td>387315</td>\n",
              "      <td>10976</td>\n",
              "      <td>1767635</td>\n",
              "      <td>1023779</td>\n",
              "      <td>2861.049837</td>\n",
              "      <td>102611607</td>\n",
              "      <td>True</td>\n",
              "      <td>True</td>\n",
              "      <td>Portuguese</td>\n",
              "      <td>1.0</td>\n",
              "    </tr>\n",
              "    <tr>\n",
              "      <th>3</th>\n",
              "      <td>ESL_CSGO</td>\n",
              "      <td>3970318140</td>\n",
              "      <td>517740</td>\n",
              "      <td>8629.00</td>\n",
              "      <td>359.541667</td>\n",
              "      <td>300575</td>\n",
              "      <td>7714</td>\n",
              "      <td>3944850</td>\n",
              "      <td>703986</td>\n",
              "      <td>1958.009503</td>\n",
              "      <td>106546942</td>\n",
              "      <td>True</td>\n",
              "      <td>False</td>\n",
              "      <td>English</td>\n",
              "      <td>1.0</td>\n",
              "    </tr>\n",
              "    <tr>\n",
              "      <th>4</th>\n",
              "      <td>Tfue</td>\n",
              "      <td>3671000070</td>\n",
              "      <td>123660</td>\n",
              "      <td>2061.00</td>\n",
              "      <td>85.875000</td>\n",
              "      <td>285644</td>\n",
              "      <td>29602</td>\n",
              "      <td>8938903</td>\n",
              "      <td>2068424</td>\n",
              "      <td>24086.451237</td>\n",
              "      <td>78998587</td>\n",
              "      <td>True</td>\n",
              "      <td>False</td>\n",
              "      <td>English</td>\n",
              "      <td>1.0</td>\n",
              "    </tr>\n",
              "  </tbody>\n",
              "</table>\n",
              "</div>"
            ],
            "text/plain": [
              "    Channel  Watch_time_min  Stream_time_min  ...  Mature    Language  Streams_a_lot\n",
              "0     xQcOW      6196161750           215250  ...   False     English            1.0\n",
              "1  summit1g      6091677300           211845  ...   False     English            1.0\n",
              "2    Gaules      5644590915           515280  ...    True  Portuguese            1.0\n",
              "3  ESL_CSGO      3970318140           517740  ...   False     English            1.0\n",
              "4      Tfue      3671000070           123660  ...   False     English            1.0\n",
              "\n",
              "[5 rows x 15 columns]"
            ]
          },
          "metadata": {
            "tags": []
          },
          "execution_count": 53
        }
      ]
    },
    {
      "cell_type": "code",
      "metadata": {
        "colab": {
          "base_uri": "https://localhost:8080/",
          "height": 224
        },
        "id": "s9ebod2zzyCP",
        "outputId": "4e7404ce-2855-4054-a0be-567bfc68c958"
      },
      "source": [
        "df['Log_stream_time_hr'] = np.log(df['Stream_time_hr'])\r\n",
        "df.head()"
      ],
      "execution_count": null,
      "outputs": [
        {
          "output_type": "execute_result",
          "data": {
            "text/html": [
              "<div>\n",
              "<style scoped>\n",
              "    .dataframe tbody tr th:only-of-type {\n",
              "        vertical-align: middle;\n",
              "    }\n",
              "\n",
              "    .dataframe tbody tr th {\n",
              "        vertical-align: top;\n",
              "    }\n",
              "\n",
              "    .dataframe thead th {\n",
              "        text-align: right;\n",
              "    }\n",
              "</style>\n",
              "<table border=\"1\" class=\"dataframe\">\n",
              "  <thead>\n",
              "    <tr style=\"text-align: right;\">\n",
              "      <th></th>\n",
              "      <th>Channel</th>\n",
              "      <th>Watch_time_min</th>\n",
              "      <th>Stream_time_min</th>\n",
              "      <th>Stream_time_hr</th>\n",
              "      <th>Stream_time_days</th>\n",
              "      <th>Peak_viewers</th>\n",
              "      <th>Average_viewers</th>\n",
              "      <th>Followers</th>\n",
              "      <th>Followers_gained</th>\n",
              "      <th>Followers_gained_per_stream_time_days</th>\n",
              "      <th>Views_gained</th>\n",
              "      <th>Partnered</th>\n",
              "      <th>Mature</th>\n",
              "      <th>Language</th>\n",
              "      <th>Streams_a_lot</th>\n",
              "      <th>Log_stream_time_hr</th>\n",
              "    </tr>\n",
              "  </thead>\n",
              "  <tbody>\n",
              "    <tr>\n",
              "      <th>0</th>\n",
              "      <td>xQcOW</td>\n",
              "      <td>6196161750</td>\n",
              "      <td>215250</td>\n",
              "      <td>3587.50</td>\n",
              "      <td>149.479167</td>\n",
              "      <td>222720</td>\n",
              "      <td>27716</td>\n",
              "      <td>3246298</td>\n",
              "      <td>1734810</td>\n",
              "      <td>11605.697561</td>\n",
              "      <td>93036735</td>\n",
              "      <td>True</td>\n",
              "      <td>False</td>\n",
              "      <td>English</td>\n",
              "      <td>1.0</td>\n",
              "      <td>8.185211</td>\n",
              "    </tr>\n",
              "    <tr>\n",
              "      <th>1</th>\n",
              "      <td>summit1g</td>\n",
              "      <td>6091677300</td>\n",
              "      <td>211845</td>\n",
              "      <td>3530.75</td>\n",
              "      <td>147.114583</td>\n",
              "      <td>310998</td>\n",
              "      <td>25610</td>\n",
              "      <td>5310163</td>\n",
              "      <td>1370184</td>\n",
              "      <td>9313.719748</td>\n",
              "      <td>89705964</td>\n",
              "      <td>True</td>\n",
              "      <td>False</td>\n",
              "      <td>English</td>\n",
              "      <td>1.0</td>\n",
              "      <td>8.169266</td>\n",
              "    </tr>\n",
              "    <tr>\n",
              "      <th>2</th>\n",
              "      <td>Gaules</td>\n",
              "      <td>5644590915</td>\n",
              "      <td>515280</td>\n",
              "      <td>8588.00</td>\n",
              "      <td>357.833333</td>\n",
              "      <td>387315</td>\n",
              "      <td>10976</td>\n",
              "      <td>1767635</td>\n",
              "      <td>1023779</td>\n",
              "      <td>2861.049837</td>\n",
              "      <td>102611607</td>\n",
              "      <td>True</td>\n",
              "      <td>True</td>\n",
              "      <td>Portuguese</td>\n",
              "      <td>1.0</td>\n",
              "      <td>9.058121</td>\n",
              "    </tr>\n",
              "    <tr>\n",
              "      <th>3</th>\n",
              "      <td>ESL_CSGO</td>\n",
              "      <td>3970318140</td>\n",
              "      <td>517740</td>\n",
              "      <td>8629.00</td>\n",
              "      <td>359.541667</td>\n",
              "      <td>300575</td>\n",
              "      <td>7714</td>\n",
              "      <td>3944850</td>\n",
              "      <td>703986</td>\n",
              "      <td>1958.009503</td>\n",
              "      <td>106546942</td>\n",
              "      <td>True</td>\n",
              "      <td>False</td>\n",
              "      <td>English</td>\n",
              "      <td>1.0</td>\n",
              "      <td>9.062884</td>\n",
              "    </tr>\n",
              "    <tr>\n",
              "      <th>4</th>\n",
              "      <td>Tfue</td>\n",
              "      <td>3671000070</td>\n",
              "      <td>123660</td>\n",
              "      <td>2061.00</td>\n",
              "      <td>85.875000</td>\n",
              "      <td>285644</td>\n",
              "      <td>29602</td>\n",
              "      <td>8938903</td>\n",
              "      <td>2068424</td>\n",
              "      <td>24086.451237</td>\n",
              "      <td>78998587</td>\n",
              "      <td>True</td>\n",
              "      <td>False</td>\n",
              "      <td>English</td>\n",
              "      <td>1.0</td>\n",
              "      <td>7.630947</td>\n",
              "    </tr>\n",
              "  </tbody>\n",
              "</table>\n",
              "</div>"
            ],
            "text/plain": [
              "    Channel  Watch_time_min  ...  Streams_a_lot  Log_stream_time_hr\n",
              "0     xQcOW      6196161750  ...            1.0            8.185211\n",
              "1  summit1g      6091677300  ...            1.0            8.169266\n",
              "2    Gaules      5644590915  ...            1.0            9.058121\n",
              "3  ESL_CSGO      3970318140  ...            1.0            9.062884\n",
              "4      Tfue      3671000070  ...            1.0            7.630947\n",
              "\n",
              "[5 rows x 16 columns]"
            ]
          },
          "metadata": {
            "tags": []
          },
          "execution_count": 54
        }
      ]
    },
    {
      "cell_type": "code",
      "metadata": {
        "colab": {
          "base_uri": "https://localhost:8080/",
          "height": 291
        },
        "id": "2l-h1WkT0dWu",
        "outputId": "9aa39fb2-2c3b-4832-ab2a-bb805d609ada"
      },
      "source": [
        "log_plot = sns.regplot(x=\"Log_stream_time_hr\", y=\"Followers_gained\", data=df)\r\n",
        "log_plot\r\n",
        "\r\n",
        "plt.show()"
      ],
      "execution_count": null,
      "outputs": [
        {
          "output_type": "display_data",
          "data": {
            "image/png": "[encoded data removed]",
            "text/plain": [
              "<Figure size 432x288 with 1 Axes>"
            ]
          },
          "metadata": {
            "tags": [],
            "needs_background": "light"
          }
        }
      ]
    },
    {
      "cell_type": "code",
      "metadata": {
        "colab": {
          "base_uri": "https://localhost:8080/"
        },
        "id": "w4Y5M1FJ05bf",
        "outputId": "9359fb38-dc8a-4d10-8e2b-0f7dddfc5d3c"
      },
      "source": [
        "model_st_fg_log = ols('Followers_gained ~ Log_stream_time_hr', data = df).fit()\r\n",
        "print(model_st_fg_log.summary())"
      ],
      "execution_count": null,
      "outputs": [
        {
          "output_type": "stream",
          "text": [
            "                            OLS Regression Results                            \n",
            "==============================================================================\n",
            "Dep. Variable:       Followers_gained   R-squared:                       0.041\n",
            "Model:                            OLS   Adj. R-squared:                  0.040\n",
            "Method:                 Least Squares   F-statistic:                     43.10\n",
            "Date:                Sun, 28 Feb 2021   Prob (F-statistic):           8.36e-11\n",
            "Time:                        00:45:49   Log-Likelihood:                -14134.\n",
            "No. Observations:                1000   AIC:                         2.827e+04\n",
            "Df Residuals:                     998   BIC:                         2.828e+04\n",
            "Df Model:                           1                                         \n",
            "Covariance Type:            nonrobust                                         \n",
            "======================================================================================\n",
            "                         coef    std err          t      P>|t|      [0.025      0.975]\n",
            "--------------------------------------------------------------------------------------\n",
            "Intercept           9.466e+05   1.13e+05      8.349      0.000    7.24e+05    1.17e+06\n",
            "Log_stream_time_hr -1.002e+05   1.53e+04     -6.565      0.000    -1.3e+05   -7.03e+04\n",
            "==============================================================================\n",
            "Omnibus:                     1100.910   Durbin-Watson:                   1.272\n",
            "Prob(Omnibus):                  0.000   Jarque-Bera (JB):            81763.610\n",
            "Skew:                           5.350   Prob(JB):                         0.00\n",
            "Kurtosis:                      45.987   Cond. No.                         81.4\n",
            "==============================================================================\n",
            "\n",
            "Warnings:\n",
            "[1] Standard Errors assume that the covariance matrix of the errors is correctly specified.\n"
          ],
          "name": "stdout"
        }
      ]
    },
    {
      "cell_type": "code",
      "metadata": {
        "colab": {
          "base_uri": "https://localhost:8080/"
        },
        "id": "iqg5e-9D2Ebv",
        "outputId": "f72d6467-e45c-48a2-a4d7-126f8e8f2cde"
      },
      "source": [
        "print(model_st_fg_no_outl_2.summary())"
      ],
      "execution_count": null,
      "outputs": [
        {
          "output_type": "stream",
          "text": [
            "                            OLS Regression Results                            \n",
            "==============================================================================\n",
            "Dep. Variable:       Followers_gained   R-squared:                       0.067\n",
            "Model:                            OLS   Adj. R-squared:                  0.065\n",
            "Method:                 Least Squares   F-statistic:                     61.46\n",
            "Date:                Sun, 28 Feb 2021   Prob (F-statistic):           1.33e-14\n",
            "Time:                        00:45:49   Log-Likelihood:                -11264.\n",
            "No. Observations:                 864   AIC:                         2.253e+04\n",
            "Df Residuals:                     862   BIC:                         2.254e+04\n",
            "Df Model:                           1                                         \n",
            "Covariance Type:            nonrobust                                         \n",
            "==================================================================================\n",
            "                     coef    std err          t      P>|t|      [0.025      0.975]\n",
            "----------------------------------------------------------------------------------\n",
            "Intercept       1.954e+05   9403.079     20.781      0.000    1.77e+05    2.14e+05\n",
            "Stream_time_hr   -37.5462      4.789     -7.840      0.000     -46.946     -28.146\n",
            "==============================================================================\n",
            "Omnibus:                      176.486   Durbin-Watson:                   1.714\n",
            "Prob(Omnibus):                  0.000   Jarque-Bera (JB):              301.351\n",
            "Skew:                           1.279   Prob(JB):                     3.65e-66\n",
            "Kurtosis:                       4.352   Cond. No.                     4.88e+03\n",
            "==============================================================================\n",
            "\n",
            "Warnings:\n",
            "[1] Standard Errors assume that the covariance matrix of the errors is correctly specified.\n",
            "[2] The condition number is large, 4.88e+03. This might indicate that there are\n",
            "strong multicollinearity or other numerical problems.\n"
          ],
          "name": "stdout"
        }
      ]
    },
    {
      "cell_type": "code",
      "metadata": {
        "colab": {
          "base_uri": "https://localhost:8080/"
        },
        "id": "F7__mgt11GMx",
        "outputId": "9b0f5027-3c74-45f8-e7f5-6d76afce550f"
      },
      "source": [
        "r_st_fg_log, p_val_st_fg_log = stats.pearsonr(df['Log_stream_time_hr'], df['Followers_gained'])\r\n",
        "print('R Coefficient_Log: ', r_st_fg_log)\r\n",
        "print('P-Value_Log: ', p_val_st_fg_log)\r\n",
        "print('R Coefficient3: ', r_st_fg3)\r\n",
        "print('P-Value3: ', p_val_st_fg3)\r\n",
        "print('R Coefficient2: ', r_st_fg2)\r\n",
        "print('P-Value2: ', p_val_st_fg2)\r\n",
        "print('R Coefficient: ', r_st_fg)\r\n",
        "print('P-Value: ', p_val_st_fg)"
      ],
      "execution_count": null,
      "outputs": [
        {
          "output_type": "stream",
          "text": [
            "R Coefficient_Log:  -0.20345936987492041\n",
            "P-Value_Log:  8.361778976627629e-11\n",
            "R Coefficient3:  -0.2579774404321478\n",
            "P-Value3:  1.3318863852482777e-14\n",
            "R Coefficient2:  -0.20446121675704776\n",
            "P-Value2:  1.919529982808843e-10\n",
            "R Coefficient:  -0.15816478527011052\n",
            "P-Value:  4.981386544982613e-07\n"
          ],
          "name": "stdout"
        }
      ]
    },
    {
      "cell_type": "markdown",
      "metadata": {
        "id": "PjRT1YDeWz00"
      },
      "source": [
        "# Logistic Regression with No Outliers"
      ]
    },
    {
      "cell_type": "code",
      "metadata": {
        "colab": {
          "base_uri": "https://localhost:8080/",
          "height": 258
        },
        "id": "Nm77TdPXXCV1",
        "outputId": "c7d18ea5-23b7-45e6-abcb-6decbddafe4a"
      },
      "source": [
        "df_exclude_fg_st_outlier.head()"
      ],
      "execution_count": null,
      "outputs": [
        {
          "output_type": "execute_result",
          "data": {
            "text/html": [
              "<div>\n",
              "<style scoped>\n",
              "    .dataframe tbody tr th:only-of-type {\n",
              "        vertical-align: middle;\n",
              "    }\n",
              "\n",
              "    .dataframe tbody tr th {\n",
              "        vertical-align: top;\n",
              "    }\n",
              "\n",
              "    .dataframe thead th {\n",
              "        text-align: right;\n",
              "    }\n",
              "</style>\n",
              "<table border=\"1\" class=\"dataframe\">\n",
              "  <thead>\n",
              "    <tr style=\"text-align: right;\">\n",
              "      <th></th>\n",
              "      <th>Channel</th>\n",
              "      <th>Watch_time_min</th>\n",
              "      <th>Stream_time_min</th>\n",
              "      <th>Stream_time_hr</th>\n",
              "      <th>Stream_time_days</th>\n",
              "      <th>Peak_viewers</th>\n",
              "      <th>Average_viewers</th>\n",
              "      <th>Followers</th>\n",
              "      <th>Followers_gained</th>\n",
              "      <th>Followers_gained_per_stream_time_days</th>\n",
              "      <th>Views_gained</th>\n",
              "      <th>Partnered</th>\n",
              "      <th>Mature</th>\n",
              "      <th>Language</th>\n",
              "      <th>Streams_a_lot</th>\n",
              "    </tr>\n",
              "  </thead>\n",
              "  <tbody>\n",
              "    <tr>\n",
              "      <th>7</th>\n",
              "      <td>Fextralife</td>\n",
              "      <td>3301867485</td>\n",
              "      <td>147885</td>\n",
              "      <td>2464.75</td>\n",
              "      <td>102.697917</td>\n",
              "      <td>68795</td>\n",
              "      <td>18985</td>\n",
              "      <td>508816</td>\n",
              "      <td>425468</td>\n",
              "      <td>4142.907800</td>\n",
              "      <td>670137548</td>\n",
              "      <td>True</td>\n",
              "      <td>False</td>\n",
              "      <td>English</td>\n",
              "      <td>1.0</td>\n",
              "    </tr>\n",
              "    <tr>\n",
              "      <th>11</th>\n",
              "      <td>LIRIK</td>\n",
              "      <td>2832930285</td>\n",
              "      <td>128490</td>\n",
              "      <td>2141.50</td>\n",
              "      <td>89.229167</td>\n",
              "      <td>89170</td>\n",
              "      <td>21739</td>\n",
              "      <td>2666382</td>\n",
              "      <td>199077</td>\n",
              "      <td>2231.075414</td>\n",
              "      <td>50504526</td>\n",
              "      <td>True</td>\n",
              "      <td>False</td>\n",
              "      <td>English</td>\n",
              "      <td>1.0</td>\n",
              "    </tr>\n",
              "    <tr>\n",
              "      <th>12</th>\n",
              "      <td>Riot Games (riotgames)</td>\n",
              "      <td>2674646715</td>\n",
              "      <td>80820</td>\n",
              "      <td>1347.00</td>\n",
              "      <td>56.125000</td>\n",
              "      <td>639375</td>\n",
              "      <td>20960</td>\n",
              "      <td>4487489</td>\n",
              "      <td>497678</td>\n",
              "      <td>8867.314031</td>\n",
              "      <td>56855694</td>\n",
              "      <td>True</td>\n",
              "      <td>False</td>\n",
              "      <td>English</td>\n",
              "      <td>1.0</td>\n",
              "    </tr>\n",
              "    <tr>\n",
              "      <th>16</th>\n",
              "      <td>sodapoppin</td>\n",
              "      <td>2329440420</td>\n",
              "      <td>115305</td>\n",
              "      <td>1921.75</td>\n",
              "      <td>80.072917</td>\n",
              "      <td>107833</td>\n",
              "      <td>19659</td>\n",
              "      <td>2786162</td>\n",
              "      <td>236169</td>\n",
              "      <td>2949.424223</td>\n",
              "      <td>39334821</td>\n",
              "      <td>True</td>\n",
              "      <td>True</td>\n",
              "      <td>English</td>\n",
              "      <td>1.0</td>\n",
              "    </tr>\n",
              "    <tr>\n",
              "      <th>17</th>\n",
              "      <td>풍월량 (hanryang1125)</td>\n",
              "      <td>2186662470</td>\n",
              "      <td>181230</td>\n",
              "      <td>3020.50</td>\n",
              "      <td>125.854167</td>\n",
              "      <td>26999</td>\n",
              "      <td>12201</td>\n",
              "      <td>494445</td>\n",
              "      <td>92205</td>\n",
              "      <td>732.633670</td>\n",
              "      <td>34405975</td>\n",
              "      <td>True</td>\n",
              "      <td>False</td>\n",
              "      <td>Korean</td>\n",
              "      <td>1.0</td>\n",
              "    </tr>\n",
              "  </tbody>\n",
              "</table>\n",
              "</div>"
            ],
            "text/plain": [
              "                   Channel  Watch_time_min  ...  Language  Streams_a_lot\n",
              "7               Fextralife      3301867485  ...   English            1.0\n",
              "11                   LIRIK      2832930285  ...   English            1.0\n",
              "12  Riot Games (riotgames)      2674646715  ...   English            1.0\n",
              "16              sodapoppin      2329440420  ...   English            1.0\n",
              "17      풍월량 (hanryang1125)      2186662470  ...    Korean            1.0\n",
              "\n",
              "[5 rows x 15 columns]"
            ]
          },
          "metadata": {
            "tags": []
          },
          "execution_count": 59
        }
      ]
    },
    {
      "cell_type": "code",
      "metadata": {
        "colab": {
          "base_uri": "https://localhost:8080/"
        },
        "id": "xAM0YC18WDaa",
        "outputId": "f99dc53a-d509-421b-accb-e08c171dfa88"
      },
      "source": [
        "df_exclude_fg_st_outlier['Log_stream_time_hr'] = np.log(df_exclude_fg_st_outlier['Stream_time_hr'])"
      ],
      "execution_count": null,
      "outputs": [
        {
          "output_type": "stream",
          "text": [
            "/usr/local/lib/python3.7/dist-packages/ipykernel_launcher.py:1: SettingWithCopyWarning: \n",
            "A value is trying to be set on a copy of a slice from a DataFrame.\n",
            "Try using .loc[row_indexer,col_indexer] = value instead\n",
            "\n",
            "See the caveats in the documentation: https://pandas.pydata.org/pandas-docs/stable/user_guide/indexing.html#returning-a-view-versus-a-copy\n",
            "  \"\"\"Entry point for launching an IPython kernel.\n"
          ],
          "name": "stderr"
        }
      ]
    },
    {
      "cell_type": "code",
      "metadata": {
        "colab": {
          "base_uri": "https://localhost:8080/",
          "height": 258
        },
        "id": "K5vJxr7sXU5X",
        "outputId": "fc963c99-1f64-4250-a962-88cc4c7dec21"
      },
      "source": [
        "df_exclude_fg_st_outlier.head()"
      ],
      "execution_count": null,
      "outputs": [
        {
          "output_type": "execute_result",
          "data": {
            "text/html": [
              "<div>\n",
              "<style scoped>\n",
              "    .dataframe tbody tr th:only-of-type {\n",
              "        vertical-align: middle;\n",
              "    }\n",
              "\n",
              "    .dataframe tbody tr th {\n",
              "        vertical-align: top;\n",
              "    }\n",
              "\n",
              "    .dataframe thead th {\n",
              "        text-align: right;\n",
              "    }\n",
              "</style>\n",
              "<table border=\"1\" class=\"dataframe\">\n",
              "  <thead>\n",
              "    <tr style=\"text-align: right;\">\n",
              "      <th></th>\n",
              "      <th>Channel</th>\n",
              "      <th>Watch_time_min</th>\n",
              "      <th>Stream_time_min</th>\n",
              "      <th>Stream_time_hr</th>\n",
              "      <th>Stream_time_days</th>\n",
              "      <th>Peak_viewers</th>\n",
              "      <th>Average_viewers</th>\n",
              "      <th>Followers</th>\n",
              "      <th>Followers_gained</th>\n",
              "      <th>Followers_gained_per_stream_time_days</th>\n",
              "      <th>Views_gained</th>\n",
              "      <th>Partnered</th>\n",
              "      <th>Mature</th>\n",
              "      <th>Language</th>\n",
              "      <th>Streams_a_lot</th>\n",
              "      <th>Log_stream_time_hr</th>\n",
              "    </tr>\n",
              "  </thead>\n",
              "  <tbody>\n",
              "    <tr>\n",
              "      <th>7</th>\n",
              "      <td>Fextralife</td>\n",
              "      <td>3301867485</td>\n",
              "      <td>147885</td>\n",
              "      <td>2464.75</td>\n",
              "      <td>102.697917</td>\n",
              "      <td>68795</td>\n",
              "      <td>18985</td>\n",
              "      <td>508816</td>\n",
              "      <td>425468</td>\n",
              "      <td>4142.907800</td>\n",
              "      <td>670137548</td>\n",
              "      <td>True</td>\n",
              "      <td>False</td>\n",
              "      <td>English</td>\n",
              "      <td>1.0</td>\n",
              "      <td>7.809846</td>\n",
              "    </tr>\n",
              "    <tr>\n",
              "      <th>11</th>\n",
              "      <td>LIRIK</td>\n",
              "      <td>2832930285</td>\n",
              "      <td>128490</td>\n",
              "      <td>2141.50</td>\n",
              "      <td>89.229167</td>\n",
              "      <td>89170</td>\n",
              "      <td>21739</td>\n",
              "      <td>2666382</td>\n",
              "      <td>199077</td>\n",
              "      <td>2231.075414</td>\n",
              "      <td>50504526</td>\n",
              "      <td>True</td>\n",
              "      <td>False</td>\n",
              "      <td>English</td>\n",
              "      <td>1.0</td>\n",
              "      <td>7.669262</td>\n",
              "    </tr>\n",
              "    <tr>\n",
              "      <th>12</th>\n",
              "      <td>Riot Games (riotgames)</td>\n",
              "      <td>2674646715</td>\n",
              "      <td>80820</td>\n",
              "      <td>1347.00</td>\n",
              "      <td>56.125000</td>\n",
              "      <td>639375</td>\n",
              "      <td>20960</td>\n",
              "      <td>4487489</td>\n",
              "      <td>497678</td>\n",
              "      <td>8867.314031</td>\n",
              "      <td>56855694</td>\n",
              "      <td>True</td>\n",
              "      <td>False</td>\n",
              "      <td>English</td>\n",
              "      <td>1.0</td>\n",
              "      <td>7.205635</td>\n",
              "    </tr>\n",
              "    <tr>\n",
              "      <th>16</th>\n",
              "      <td>sodapoppin</td>\n",
              "      <td>2329440420</td>\n",
              "      <td>115305</td>\n",
              "      <td>1921.75</td>\n",
              "      <td>80.072917</td>\n",
              "      <td>107833</td>\n",
              "      <td>19659</td>\n",
              "      <td>2786162</td>\n",
              "      <td>236169</td>\n",
              "      <td>2949.424223</td>\n",
              "      <td>39334821</td>\n",
              "      <td>True</td>\n",
              "      <td>True</td>\n",
              "      <td>English</td>\n",
              "      <td>1.0</td>\n",
              "      <td>7.560992</td>\n",
              "    </tr>\n",
              "    <tr>\n",
              "      <th>17</th>\n",
              "      <td>풍월량 (hanryang1125)</td>\n",
              "      <td>2186662470</td>\n",
              "      <td>181230</td>\n",
              "      <td>3020.50</td>\n",
              "      <td>125.854167</td>\n",
              "      <td>26999</td>\n",
              "      <td>12201</td>\n",
              "      <td>494445</td>\n",
              "      <td>92205</td>\n",
              "      <td>732.633670</td>\n",
              "      <td>34405975</td>\n",
              "      <td>True</td>\n",
              "      <td>False</td>\n",
              "      <td>Korean</td>\n",
              "      <td>1.0</td>\n",
              "      <td>8.013178</td>\n",
              "    </tr>\n",
              "  </tbody>\n",
              "</table>\n",
              "</div>"
            ],
            "text/plain": [
              "                   Channel  Watch_time_min  ...  Streams_a_lot  Log_stream_time_hr\n",
              "7               Fextralife      3301867485  ...            1.0            7.809846\n",
              "11                   LIRIK      2832930285  ...            1.0            7.669262\n",
              "12  Riot Games (riotgames)      2674646715  ...            1.0            7.205635\n",
              "16              sodapoppin      2329440420  ...            1.0            7.560992\n",
              "17      풍월량 (hanryang1125)      2186662470  ...            1.0            8.013178\n",
              "\n",
              "[5 rows x 16 columns]"
            ]
          },
          "metadata": {
            "tags": []
          },
          "execution_count": 61
        }
      ]
    },
    {
      "cell_type": "code",
      "metadata": {
        "colab": {
          "base_uri": "https://localhost:8080/",
          "height": 280
        },
        "id": "cZv5421RXeWx",
        "outputId": "8dd658a5-983d-4431-961c-72d259271519"
      },
      "source": [
        "log_plot_no_out = sns.regplot(x=\"Log_stream_time_hr\", y=\"Followers_gained\", data=df_exclude_fg_st_outlier)\r\n",
        "log_plot_no_out\r\n",
        "\r\n",
        "plt.show()"
      ],
      "execution_count": null,
      "outputs": [
        {
          "output_type": "display_data",
          "data": {
            "image/png": "[encoded data removed]",
            "text/plain": [
              "<Figure size 432x288 with 1 Axes>"
            ]
          },
          "metadata": {
            "tags": [],
            "needs_background": "light"
          }
        }
      ]
    },
    {
      "cell_type": "code",
      "metadata": {
        "colab": {
          "base_uri": "https://localhost:8080/"
        },
        "id": "RdQsYU9SXvB0",
        "outputId": "c041491b-a89c-4369-84e1-9b2f89d47798"
      },
      "source": [
        "model_st_fg_log_no_out = ols('Followers_gained ~ Log_stream_time_hr', data = df_exclude_fg_st_outlier).fit()\r\n",
        "print(model_st_fg_log_no_out.summary())"
      ],
      "execution_count": null,
      "outputs": [
        {
          "output_type": "stream",
          "text": [
            "                            OLS Regression Results                            \n",
            "==============================================================================\n",
            "Dep. Variable:       Followers_gained   R-squared:                       0.050\n",
            "Model:                            OLS   Adj. R-squared:                  0.049\n",
            "Method:                 Least Squares   F-statistic:                     45.24\n",
            "Date:                Sun, 28 Feb 2021   Prob (F-statistic):           3.17e-11\n",
            "Time:                        00:45:49   Log-Likelihood:                -11272.\n",
            "No. Observations:                 864   AIC:                         2.255e+04\n",
            "Df Residuals:                     862   BIC:                         2.256e+04\n",
            "Df Model:                           1                                         \n",
            "Covariance Type:            nonrobust                                         \n",
            "======================================================================================\n",
            "                         coef    std err          t      P>|t|      [0.025      0.975]\n",
            "--------------------------------------------------------------------------------------\n",
            "Intercept           4.444e+05   4.72e+04      9.414      0.000    3.52e+05    5.37e+05\n",
            "Log_stream_time_hr -4.301e+04   6394.103     -6.726      0.000   -5.56e+04   -3.05e+04\n",
            "==============================================================================\n",
            "Omnibus:                      175.101   Durbin-Watson:                   1.737\n",
            "Prob(Omnibus):                  0.000   Jarque-Bera (JB):              298.206\n",
            "Skew:                           1.270   Prob(JB):                     1.76e-65\n",
            "Kurtosis:                       4.353   Cond. No.                         92.9\n",
            "==============================================================================\n",
            "\n",
            "Warnings:\n",
            "[1] Standard Errors assume that the covariance matrix of the errors is correctly specified.\n"
          ],
          "name": "stdout"
        }
      ]
    },
    {
      "cell_type": "code",
      "metadata": {
        "colab": {
          "base_uri": "https://localhost:8080/"
        },
        "id": "MXj26c7GY3rd",
        "outputId": "d676ea16-5d37-4779-ca05-d1789c7d0b58"
      },
      "source": [
        "r_st_fg_log2, p_val_st_fg_log2 = stats.pearsonr(df_exclude_fg_st_outlier['Log_stream_time_hr'], df_exclude_fg_st_outlier['Followers_gained'])\r\n",
        "print(r_st_fg_log2, p_val_st_fg_log2)"
      ],
      "execution_count": null,
      "outputs": [
        {
          "output_type": "stream",
          "text": [
            "-0.22330422454974058 3.173790476914282e-11\n"
          ],
          "name": "stdout"
        }
      ]
    },
    {
      "cell_type": "code",
      "metadata": {
        "colab": {
          "base_uri": "https://localhost:8080/"
        },
        "id": "E012P4IbZeec",
        "outputId": "5ee26c5d-ae97-4b8d-f5f5-a7d00ee7dfd1"
      },
      "source": [
        "print('R Coefficient_Log_No_Out: ', r_st_fg_log2)\r\n",
        "print('P-Value_Log_No_Out: ', p_val_st_fg_log2)\r\n",
        "print('R Coefficient_Log: ', r_st_fg_log)\r\n",
        "print('P-Value_Log: ', p_val_st_fg_log)\r\n",
        "print('R Coefficient3: ', r_st_fg3)\r\n",
        "print('P-Value3: ', p_val_st_fg3)\r\n",
        "print('R Coefficient2: ', r_st_fg2)\r\n",
        "print('P-Value2: ', p_val_st_fg2)\r\n",
        "print('R Coefficient: ', r_st_fg)\r\n",
        "print('P-Value: ', p_val_st_fg)"
      ],
      "execution_count": null,
      "outputs": [
        {
          "output_type": "stream",
          "text": [
            "R Coefficient_Log_No_Out:  -0.22330422454974058\n",
            "P-Value_Log_No_Out:  3.173790476914282e-11\n",
            "R Coefficient_Log:  -0.20345936987492041\n",
            "P-Value_Log:  8.361778976627629e-11\n",
            "R Coefficient3:  -0.2579774404321478\n",
            "P-Value3:  1.3318863852482777e-14\n",
            "R Coefficient2:  -0.20446121675704776\n",
            "P-Value2:  1.919529982808843e-10\n",
            "R Coefficient:  -0.15816478527011052\n",
            "P-Value:  4.981386544982613e-07\n"
          ],
          "name": "stdout"
        }
      ]
    },
    {
      "cell_type": "markdown",
      "metadata": {
        "id": "fbk1DtjIBCpj"
      },
      "source": [
        "#Multiple Regression"
      ]
    },
    {
      "cell_type": "code",
      "metadata": {
        "colab": {
          "base_uri": "https://localhost:8080/"
        },
        "id": "LczXmqfjczkv",
        "outputId": "ba837f6e-a33b-4227-c708-5177e32843c6"
      },
      "source": [
        "df_exclude_fg_st_outlier['Mature'].value_counts()"
      ],
      "execution_count": null,
      "outputs": [
        {
          "output_type": "execute_result",
          "data": {
            "text/plain": [
              "False    656\n",
              "True     208\n",
              "Name: Mature, dtype: int64"
            ]
          },
          "metadata": {
            "tags": []
          },
          "execution_count": 66
        }
      ]
    },
    {
      "cell_type": "code",
      "metadata": {
        "colab": {
          "base_uri": "https://localhost:8080/",
          "height": 258
        },
        "id": "SH1mlTrUbYs_",
        "outputId": "f55815eb-1335-41ee-cfef-3c2298973252"
      },
      "source": [
        "df_exclude_fg_st_outlier.head()"
      ],
      "execution_count": null,
      "outputs": [
        {
          "output_type": "execute_result",
          "data": {
            "text/html": [
              "<div>\n",
              "<style scoped>\n",
              "    .dataframe tbody tr th:only-of-type {\n",
              "        vertical-align: middle;\n",
              "    }\n",
              "\n",
              "    .dataframe tbody tr th {\n",
              "        vertical-align: top;\n",
              "    }\n",
              "\n",
              "    .dataframe thead th {\n",
              "        text-align: right;\n",
              "    }\n",
              "</style>\n",
              "<table border=\"1\" class=\"dataframe\">\n",
              "  <thead>\n",
              "    <tr style=\"text-align: right;\">\n",
              "      <th></th>\n",
              "      <th>Channel</th>\n",
              "      <th>Watch_time_min</th>\n",
              "      <th>Stream_time_min</th>\n",
              "      <th>Stream_time_hr</th>\n",
              "      <th>Stream_time_days</th>\n",
              "      <th>Peak_viewers</th>\n",
              "      <th>Average_viewers</th>\n",
              "      <th>Followers</th>\n",
              "      <th>Followers_gained</th>\n",
              "      <th>Followers_gained_per_stream_time_days</th>\n",
              "      <th>Views_gained</th>\n",
              "      <th>Partnered</th>\n",
              "      <th>Mature</th>\n",
              "      <th>Language</th>\n",
              "      <th>Streams_a_lot</th>\n",
              "      <th>Log_stream_time_hr</th>\n",
              "    </tr>\n",
              "  </thead>\n",
              "  <tbody>\n",
              "    <tr>\n",
              "      <th>7</th>\n",
              "      <td>Fextralife</td>\n",
              "      <td>3301867485</td>\n",
              "      <td>147885</td>\n",
              "      <td>2464.75</td>\n",
              "      <td>102.697917</td>\n",
              "      <td>68795</td>\n",
              "      <td>18985</td>\n",
              "      <td>508816</td>\n",
              "      <td>425468</td>\n",
              "      <td>4142.907800</td>\n",
              "      <td>670137548</td>\n",
              "      <td>True</td>\n",
              "      <td>False</td>\n",
              "      <td>English</td>\n",
              "      <td>1.0</td>\n",
              "      <td>7.809846</td>\n",
              "    </tr>\n",
              "    <tr>\n",
              "      <th>11</th>\n",
              "      <td>LIRIK</td>\n",
              "      <td>2832930285</td>\n",
              "      <td>128490</td>\n",
              "      <td>2141.50</td>\n",
              "      <td>89.229167</td>\n",
              "      <td>89170</td>\n",
              "      <td>21739</td>\n",
              "      <td>2666382</td>\n",
              "      <td>199077</td>\n",
              "      <td>2231.075414</td>\n",
              "      <td>50504526</td>\n",
              "      <td>True</td>\n",
              "      <td>False</td>\n",
              "      <td>English</td>\n",
              "      <td>1.0</td>\n",
              "      <td>7.669262</td>\n",
              "    </tr>\n",
              "    <tr>\n",
              "      <th>12</th>\n",
              "      <td>Riot Games (riotgames)</td>\n",
              "      <td>2674646715</td>\n",
              "      <td>80820</td>\n",
              "      <td>1347.00</td>\n",
              "      <td>56.125000</td>\n",
              "      <td>639375</td>\n",
              "      <td>20960</td>\n",
              "      <td>4487489</td>\n",
              "      <td>497678</td>\n",
              "      <td>8867.314031</td>\n",
              "      <td>56855694</td>\n",
              "      <td>True</td>\n",
              "      <td>False</td>\n",
              "      <td>English</td>\n",
              "      <td>1.0</td>\n",
              "      <td>7.205635</td>\n",
              "    </tr>\n",
              "    <tr>\n",
              "      <th>16</th>\n",
              "      <td>sodapoppin</td>\n",
              "      <td>2329440420</td>\n",
              "      <td>115305</td>\n",
              "      <td>1921.75</td>\n",
              "      <td>80.072917</td>\n",
              "      <td>107833</td>\n",
              "      <td>19659</td>\n",
              "      <td>2786162</td>\n",
              "      <td>236169</td>\n",
              "      <td>2949.424223</td>\n",
              "      <td>39334821</td>\n",
              "      <td>True</td>\n",
              "      <td>True</td>\n",
              "      <td>English</td>\n",
              "      <td>1.0</td>\n",
              "      <td>7.560992</td>\n",
              "    </tr>\n",
              "    <tr>\n",
              "      <th>17</th>\n",
              "      <td>풍월량 (hanryang1125)</td>\n",
              "      <td>2186662470</td>\n",
              "      <td>181230</td>\n",
              "      <td>3020.50</td>\n",
              "      <td>125.854167</td>\n",
              "      <td>26999</td>\n",
              "      <td>12201</td>\n",
              "      <td>494445</td>\n",
              "      <td>92205</td>\n",
              "      <td>732.633670</td>\n",
              "      <td>34405975</td>\n",
              "      <td>True</td>\n",
              "      <td>False</td>\n",
              "      <td>Korean</td>\n",
              "      <td>1.0</td>\n",
              "      <td>8.013178</td>\n",
              "    </tr>\n",
              "  </tbody>\n",
              "</table>\n",
              "</div>"
            ],
            "text/plain": [
              "                   Channel  Watch_time_min  ...  Streams_a_lot  Log_stream_time_hr\n",
              "7               Fextralife      3301867485  ...            1.0            7.809846\n",
              "11                   LIRIK      2832930285  ...            1.0            7.669262\n",
              "12  Riot Games (riotgames)      2674646715  ...            1.0            7.205635\n",
              "16              sodapoppin      2329440420  ...            1.0            7.560992\n",
              "17      풍월량 (hanryang1125)      2186662470  ...            1.0            8.013178\n",
              "\n",
              "[5 rows x 16 columns]"
            ]
          },
          "metadata": {
            "tags": []
          },
          "execution_count": 67
        }
      ]
    },
    {
      "cell_type": "code",
      "metadata": {
        "colab": {
          "base_uri": "https://localhost:8080/"
        },
        "id": "gr7BU357Vd0t",
        "outputId": "5b8ca765-4e7a-4dbd-e585-414436bb0391"
      },
      "source": [
        "from statsmodels.formula.api import ols\r\n",
        "\r\n",
        "#Enter the model in the format Y ~ X\r\n",
        "\r\n",
        "model_mult_st_foll = ols('Followers_gained ~ Stream_time_hr + Followers', data = df_exclude_fg_st_outlier).fit()\r\n",
        "\r\n",
        "#Print the model summary\r\n",
        "print(model_mult_st_foll.summary())"
      ],
      "execution_count": null,
      "outputs": [
        {
          "output_type": "stream",
          "text": [
            "                            OLS Regression Results                            \n",
            "==============================================================================\n",
            "Dep. Variable:       Followers_gained   R-squared:                       0.267\n",
            "Model:                            OLS   Adj. R-squared:                  0.266\n",
            "Method:                 Least Squares   F-statistic:                     157.1\n",
            "Date:                Sun, 28 Feb 2021   Prob (F-statistic):           7.02e-59\n",
            "Time:                        00:45:49   Log-Likelihood:                -11160.\n",
            "No. Observations:                 864   AIC:                         2.233e+04\n",
            "Df Residuals:                     861   BIC:                         2.234e+04\n",
            "Df Model:                           2                                         \n",
            "Covariance Type:            nonrobust                                         \n",
            "==================================================================================\n",
            "                     coef    std err          t      P>|t|      [0.025      0.975]\n",
            "----------------------------------------------------------------------------------\n",
            "Intercept       1.294e+05   9378.986     13.793      0.000    1.11e+05    1.48e+05\n",
            "Stream_time_hr   -28.8226      4.283     -6.729      0.000     -37.230     -20.415\n",
            "Followers          0.1185      0.008     15.360      0.000       0.103       0.134\n",
            "==============================================================================\n",
            "Omnibus:                      117.123   Durbin-Watson:                   1.920\n",
            "Prob(Omnibus):                  0.000   Jarque-Bera (JB):              186.129\n",
            "Skew:                           0.899   Prob(JB):                     3.83e-41\n",
            "Kurtosis:                       4.393   Cond. No.                     1.71e+06\n",
            "==============================================================================\n",
            "\n",
            "Warnings:\n",
            "[1] Standard Errors assume that the covariance matrix of the errors is correctly specified.\n",
            "[2] The condition number is large, 1.71e+06. This might indicate that there are\n",
            "strong multicollinearity or other numerical problems.\n"
          ],
          "name": "stdout"
        }
      ]
    },
    {
      "cell_type": "code",
      "metadata": {
        "colab": {
          "base_uri": "https://localhost:8080/"
        },
        "id": "vR55OuarcTvG",
        "outputId": "dcffe239-5870-4f8d-a322-e795b55acc19"
      },
      "source": [
        "model_mult_st_foll2 = ols('Followers_gained ~ Stream_time_hr + Followers + Watch_time_min', data = df_exclude_fg_st_outlier).fit()\r\n",
        "\r\n",
        "#Print the model summary\r\n",
        "print(model_mult_st_foll2.summary())"
      ],
      "execution_count": null,
      "outputs": [
        {
          "output_type": "stream",
          "text": [
            "                            OLS Regression Results                            \n",
            "==============================================================================\n",
            "Dep. Variable:       Followers_gained   R-squared:                       0.288\n",
            "Model:                            OLS   Adj. R-squared:                  0.286\n",
            "Method:                 Least Squares   F-statistic:                     116.2\n",
            "Date:                Sun, 28 Feb 2021   Prob (F-statistic):           3.68e-63\n",
            "Time:                        00:45:49   Log-Likelihood:                -11147.\n",
            "No. Observations:                 864   AIC:                         2.230e+04\n",
            "Df Residuals:                     860   BIC:                         2.232e+04\n",
            "Df Model:                           3                                         \n",
            "Covariance Type:            nonrobust                                         \n",
            "==================================================================================\n",
            "                     coef    std err          t      P>|t|      [0.025      0.975]\n",
            "----------------------------------------------------------------------------------\n",
            "Intercept        1.28e+05   9252.239     13.839      0.000     1.1e+05    1.46e+05\n",
            "Stream_time_hr   -33.9166      4.343     -7.810      0.000     -42.440     -25.393\n",
            "Followers          0.0969      0.009     11.108      0.000       0.080       0.114\n",
            "Watch_time_min  5.812e-05   1.15e-05      5.046      0.000    3.55e-05    8.07e-05\n",
            "==============================================================================\n",
            "Omnibus:                      108.660   Durbin-Watson:                   1.961\n",
            "Prob(Omnibus):                  0.000   Jarque-Bera (JB):              162.460\n",
            "Skew:                           0.875   Prob(JB):                     5.27e-36\n",
            "Kurtosis:                       4.205   Cond. No.                     1.33e+09\n",
            "==============================================================================\n",
            "\n",
            "Warnings:\n",
            "[1] Standard Errors assume that the covariance matrix of the errors is correctly specified.\n",
            "[2] The condition number is large, 1.33e+09. This might indicate that there are\n",
            "strong multicollinearity or other numerical problems.\n"
          ],
          "name": "stdout"
        }
      ]
    },
    {
      "cell_type": "code",
      "metadata": {
        "colab": {
          "base_uri": "https://localhost:8080/"
        },
        "id": "FXLSeEVFe_rb",
        "outputId": "d010e318-0cb9-4ca7-8446-ac867b76aea9"
      },
      "source": [
        "model_mult_st_foll3 = ols('Followers_gained ~ Followers + Watch_time_min', data = df_exclude_fg_st_outlier).fit()\r\n",
        "\r\n",
        "#Print the model summary\r\n",
        "print(model_mult_st_foll3.summary())"
      ],
      "execution_count": null,
      "outputs": [
        {
          "output_type": "stream",
          "text": [
            "                            OLS Regression Results                            \n",
            "==============================================================================\n",
            "Dep. Variable:       Followers_gained   R-squared:                       0.238\n",
            "Model:                            OLS   Adj. R-squared:                  0.236\n",
            "Method:                 Least Squares   F-statistic:                     134.4\n",
            "Date:                Sun, 28 Feb 2021   Prob (F-statistic):           1.59e-51\n",
            "Time:                        00:45:49   Log-Likelihood:                -11177.\n",
            "No. Observations:                 864   AIC:                         2.236e+04\n",
            "Df Residuals:                     861   BIC:                         2.237e+04\n",
            "Df Model:                           2                                         \n",
            "Covariance Type:            nonrobust                                         \n",
            "==================================================================================\n",
            "                     coef    std err          t      P>|t|      [0.025      0.975]\n",
            "----------------------------------------------------------------------------------\n",
            "Intercept        6.76e+04   5244.107     12.891      0.000    5.73e+04    7.79e+04\n",
            "Followers          0.1123      0.009     12.781      0.000       0.095       0.130\n",
            "Watch_time_min  3.721e-05   1.16e-05      3.212      0.001    1.45e-05       6e-05\n",
            "==============================================================================\n",
            "Omnibus:                      118.105   Durbin-Watson:                   1.951\n",
            "Prob(Omnibus):                  0.000   Jarque-Bera (JB):              177.918\n",
            "Skew:                           0.938   Prob(JB):                     2.32e-39\n",
            "Kurtosis:                       4.194   Cond. No.                     7.27e+08\n",
            "==============================================================================\n",
            "\n",
            "Warnings:\n",
            "[1] Standard Errors assume that the covariance matrix of the errors is correctly specified.\n",
            "[2] The condition number is large, 7.27e+08. This might indicate that there are\n",
            "strong multicollinearity or other numerical problems.\n"
          ],
          "name": "stdout"
        }
      ]
    },
    {
      "cell_type": "markdown",
      "metadata": {
        "id": "huBNYtb3X8oc"
      },
      "source": [
        "#Summary"
      ]
    },
    {
      "cell_type": "markdown",
      "metadata": {
        "id": "f31qTcu9fQhp"
      },
      "source": [
        ""
      ]
    },
    {
      "cell_type": "markdown",
      "metadata": {
        "id": "iIYB7RtFYAAk"
      },
      "source": [
        "Linear Correlation between 'Followers Gained' and 'Streamtime': \r\n",
        "*   P-Value = 4.981386544982613e-07\r\n",
        "*   R-Coefficent = -0.15816478527011052\r\n",
        "*   Adjusted R^2 = 0.024\r\n",
        "\r\n",
        "\"Linear\" Outliers Removed: \r\n",
        "*   P-Value = 1.3318863852482777e-14\r\n",
        "*   R-Coefficent = -0.2579774404321478\r\n",
        "*   Adjusted R^2 = 0.065\r\n",
        "\r\n",
        "Logistical Correlation between 'Followers Gained' and 'Streamtime':\r\n",
        "*   P-Value = 8.361778976627629e-11\r\n",
        "*   R-Coefficent =-0.20345936987492041\r\n",
        "*   Adjusted R^2 = 0.040\r\n",
        "\r\n",
        "\"Logistical...\" Outliers Removed:\r\n",
        "*   P-Value = 3.173790476914282e-11\r\n",
        "*   R-Coefficent = -0.22330422454974058\r\n",
        "*   Adjusted R^2 = 0.049\r\n",
        "\r\n"
      ]
    },
    {
      "cell_type": "markdown",
      "metadata": {
        "id": "vqr-TMXWcaVB"
      },
      "source": [
        "\r\n",
        "Multiple Regressions: 'Followers Gained', 'Streamtime', 'Followers' \r\n",
        "*   P-Value = 0.000\r\n",
        "*   R-Coefficent = -0.51575\r\n",
        "*   Adjusted R^2 = 0.266\r\n",
        "\r\n",
        "Multiple Regressions: 'Followers Gained', 'Streamtime', 'Followers', Watch_Time_min \r\n",
        "*   P-Value = 0.000\r\n",
        "*   R-Coefficent = -0.5348\r\n",
        "*   Adjusted R^2 = 0.286\r\n",
        "\r\n",
        "Multiple Regressions: 'Followers Gained', 'Followers',  Watch_Time_min \r\n",
        "*   P-Value = 0.000\r\n",
        "*   R-Coefficent = -0.4879\r\n",
        "*   Adjusted R^2 = 0.238"
      ]
    },
    {
      "cell_type": "markdown",
      "metadata": {
        "id": "4fKsuBR8Ikky"
      },
      "source": [
        "#Misc"
      ]
    },
    {
      "cell_type": "code",
      "metadata": {
        "colab": {
          "base_uri": "https://localhost:8080/",
          "height": 224
        },
        "id": "4bt07pYoIjyP",
        "outputId": "6fc6303b-ef4a-488c-d810-163ac809445b"
      },
      "source": [
        "df_sort1 = df.sort_values(by = [\"Average_viewers\"], ascending = True)\r\n",
        "df_sort1.head()"
      ],
      "execution_count": null,
      "outputs": [
        {
          "output_type": "execute_result",
          "data": {
            "text/html": [
              "<div>\n",
              "<style scoped>\n",
              "    .dataframe tbody tr th:only-of-type {\n",
              "        vertical-align: middle;\n",
              "    }\n",
              "\n",
              "    .dataframe tbody tr th {\n",
              "        vertical-align: top;\n",
              "    }\n",
              "\n",
              "    .dataframe thead th {\n",
              "        text-align: right;\n",
              "    }\n",
              "</style>\n",
              "<table border=\"1\" class=\"dataframe\">\n",
              "  <thead>\n",
              "    <tr style=\"text-align: right;\">\n",
              "      <th></th>\n",
              "      <th>Channel</th>\n",
              "      <th>Watch_time_min</th>\n",
              "      <th>Stream_time_min</th>\n",
              "      <th>Stream_time_hr</th>\n",
              "      <th>Stream_time_days</th>\n",
              "      <th>Peak_viewers</th>\n",
              "      <th>Average_viewers</th>\n",
              "      <th>Followers</th>\n",
              "      <th>Followers_gained</th>\n",
              "      <th>Followers_gained_per_stream_time_days</th>\n",
              "      <th>Views_gained</th>\n",
              "      <th>Partnered</th>\n",
              "      <th>Mature</th>\n",
              "      <th>Language</th>\n",
              "      <th>Streams_a_lot</th>\n",
              "      <th>Log_stream_time_hr</th>\n",
              "    </tr>\n",
              "  </thead>\n",
              "  <tbody>\n",
              "    <tr>\n",
              "      <th>992</th>\n",
              "      <td>RelaxBeats</td>\n",
              "      <td>123273930</td>\n",
              "      <td>521430</td>\n",
              "      <td>8690.50</td>\n",
              "      <td>362.104167</td>\n",
              "      <td>2830</td>\n",
              "      <td>235</td>\n",
              "      <td>166162</td>\n",
              "      <td>29595</td>\n",
              "      <td>81.730625</td>\n",
              "      <td>1094850</td>\n",
              "      <td>True</td>\n",
              "      <td>False</td>\n",
              "      <td>English</td>\n",
              "      <td>1.0</td>\n",
              "      <td>9.069986</td>\n",
              "    </tr>\n",
              "    <tr>\n",
              "      <th>890</th>\n",
              "      <td>Japan_ASMR</td>\n",
              "      <td>138935670</td>\n",
              "      <td>509670</td>\n",
              "      <td>8494.50</td>\n",
              "      <td>353.937500</td>\n",
              "      <td>496</td>\n",
              "      <td>271</td>\n",
              "      <td>67707</td>\n",
              "      <td>32649</td>\n",
              "      <td>92.245100</td>\n",
              "      <td>1272641</td>\n",
              "      <td>True</td>\n",
              "      <td>False</td>\n",
              "      <td>Japanese</td>\n",
              "      <td>1.0</td>\n",
              "      <td>9.047174</td>\n",
              "    </tr>\n",
              "    <tr>\n",
              "      <th>828</th>\n",
              "      <td>MarketTradersTV</td>\n",
              "      <td>148900110</td>\n",
              "      <td>499215</td>\n",
              "      <td>8320.25</td>\n",
              "      <td>346.677083</td>\n",
              "      <td>1357</td>\n",
              "      <td>297</td>\n",
              "      <td>30413</td>\n",
              "      <td>12081</td>\n",
              "      <td>34.847991</td>\n",
              "      <td>981536</td>\n",
              "      <td>True</td>\n",
              "      <td>False</td>\n",
              "      <td>English</td>\n",
              "      <td>1.0</td>\n",
              "      <td>9.026448</td>\n",
              "    </tr>\n",
              "    <tr>\n",
              "      <th>746</th>\n",
              "      <td>Monstercat</td>\n",
              "      <td>163589370</td>\n",
              "      <td>519675</td>\n",
              "      <td>8661.25</td>\n",
              "      <td>360.885417</td>\n",
              "      <td>14261</td>\n",
              "      <td>313</td>\n",
              "      <td>788684</td>\n",
              "      <td>22331</td>\n",
              "      <td>61.878366</td>\n",
              "      <td>4084222</td>\n",
              "      <td>True</td>\n",
              "      <td>False</td>\n",
              "      <td>English</td>\n",
              "      <td>1.0</td>\n",
              "      <td>9.066614</td>\n",
              "    </tr>\n",
              "    <tr>\n",
              "      <th>758</th>\n",
              "      <td>voicetv</td>\n",
              "      <td>162510660</td>\n",
              "      <td>514845</td>\n",
              "      <td>8580.75</td>\n",
              "      <td>357.531250</td>\n",
              "      <td>1874</td>\n",
              "      <td>314</td>\n",
              "      <td>3660</td>\n",
              "      <td>1328</td>\n",
              "      <td>3.714361</td>\n",
              "      <td>4001475</td>\n",
              "      <td>True</td>\n",
              "      <td>False</td>\n",
              "      <td>Thai</td>\n",
              "      <td>1.0</td>\n",
              "      <td>9.057277</td>\n",
              "    </tr>\n",
              "  </tbody>\n",
              "</table>\n",
              "</div>"
            ],
            "text/plain": [
              "             Channel  Watch_time_min  ...  Streams_a_lot  Log_stream_time_hr\n",
              "992       RelaxBeats       123273930  ...            1.0            9.069986\n",
              "890       Japan_ASMR       138935670  ...            1.0            9.047174\n",
              "828  MarketTradersTV       148900110  ...            1.0            9.026448\n",
              "746       Monstercat       163589370  ...            1.0            9.066614\n",
              "758          voicetv       162510660  ...            1.0            9.057277\n",
              "\n",
              "[5 rows x 16 columns]"
            ]
          },
          "metadata": {
            "tags": []
          },
          "execution_count": 81
        }
      ]
    },
    {
      "cell_type": "code",
      "metadata": {
        "id": "vsbNAahZI51A"
      },
      "source": [
        ""
      ],
      "execution_count": null,
      "outputs": []
    }
  ]
}